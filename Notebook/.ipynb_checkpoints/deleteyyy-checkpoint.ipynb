{
 "cells": [
  {
   "cell_type": "code",
   "execution_count": null,
   "id": "ae5e1d46",
   "metadata": {},
   "outputs": [],
   "source": [
    "import ast\n",
    "import sys\n",
    "import matplotlib.pyplot as plt\n",
    "from cobra import io\n",
    "from vivarium.plots.simulation_output import save_fig_to_dir\n",
    "from vivarium.plots.topology import plot_topology\n",
    "from Fba import FBA, main "
   ]
  },
  {
   "cell_type": "code",
   "execution_count": null,
   "id": "0b7fa4d3",
   "metadata": {},
   "outputs": [],
   "source": [
    "# Constants and configurations\n",
    "MODEL_PATHS = {\n",
    "    \"Alteromonas\": \"../vivarium_microbiome/data/Alteromonas_Model.xml\",\n",
    "\n",
    "}\n",
    "EXCHANGE_PREFIX = 'EX_'"
   ]
  },
  {
   "cell_type": "code",
   "execution_count": null,
   "id": "b2683f17",
   "metadata": {},
   "outputs": [],
   "source": [
    "# Function to load model\n",
    "def load_model(model_name):\n",
    "    model_path = MODEL_PATHS.get(model_name)\n",
    "    if not model_path:\n",
    "        raise ValueError(f\"Model {model_name} not found.\")\n",
    "    return io.read_sbml_model(model_path)"
   ]
  },
  {
   "cell_type": "code",
   "execution_count": null,
   "id": "8d0997c1",
   "metadata": {},
   "outputs": [],
   "source": [
    "# Function to calculate and print total reactions and exchange fluxes\n",
    "def analyze_model_reactions(model):\n",
    "    total_reactions = len(model.reactions)\n",
    "    print(f\"Total number of reactions: {total_reactions}\")\n",
    "\n",
    "    exchange_reactions = [reaction for reaction in model.reactions if reaction.id.startswith(EXCHANGE_PREFIX)]\n",
    "    print(f\"Number of exchange fluxes: {len(exchange_reactions)}\")\n",
    "\n",
    "    return exchange_reactions"
   ]
  },
  {
   "cell_type": "code",
   "execution_count": null,
   "id": "5f250f0a",
   "metadata": {},
   "outputs": [],
   "source": [
    "\n",
    "\n",
    "\n",
    "# Function to find and print reaction details\n",
    "def find_reaction(model, reaction_id):\n",
    "    for reaction in model.reactions:\n",
    "        if reaction.id == reaction_id:\n",
    "            print(f\"The name of the reaction with ID '{reaction_id}' is: '{reaction.name}'\")\n",
    "            return\n",
    "    print(f\"No reaction found with the ID '{reaction_id}'\")\n",
    "\n",
    "# Function to process and plot model data\n",
    "def process_and_plot(model, reaction_id=None, bounds=(0, 0)):\n",
    "    output, processes, topology = main(MODEL_PATHS['Alteromonas'], reaction_id, bounds)\n",
    "    if isinstance(output, str):\n",
    "        output = ast.literal_eval(output)\n",
    "    flux_data = output[1]['fluxes_values']\n",
    "\n",
    "    exchange_fluxes = {key: value for key, value in flux_data.items() if key.startswith(EXCHANGE_PREFIX)}\n",
    "    plot_exchange_fluxes(exchange_fluxes, \"Exchange Fluxes when set to zero\")\n",
    "\n",
    "# Function to plot fluxes\n",
    "def plot_exchange_fluxes(flux_data, title):\n",
    "    sorted_fluxes = sorted(flux_data.items(), key=lambda item: item[1])\n",
    "    keys, values = zip(*sorted_fluxes)\n",
    "\n",
    "    plt.figure(figsize=(10, 6))\n",
    "    plt.bar(keys, values, color='blue')\n",
    "    plt.xlabel('Exchange Fluxes')\n",
    "    plt.ylabel('Flux Value')\n",
    "    plt.title(title)\n",
    "    plt.xticks(rotation=90)\n",
    "    plt.tight_layout()\n",
    "    plt.show()\n",
    "\n",
    "# Main Execution\n",
    "def main_analysis():\n",
    "    model = load_model(\"Alteromonas\")\n",
    "    exchange_reactions = analyze_model_reactions(model)\n",
    "    find_reaction(model, \"EX_cpd00033_e0\")\n",
    "    process_and_plot(model)\n",
    "\n",
    "if __name__ == \"__main__\":\n",
    "    main_analysis()\n"
   ]
  }
 ],
 "metadata": {
  "kernelspec": {
   "display_name": "Python 3",
   "language": "python",
   "name": "python3"
  },
  "language_info": {
   "codemirror_mode": {
    "name": "ipython",
    "version": 3
   },
   "file_extension": ".py",
   "mimetype": "text/x-python",
   "name": "python",
   "nbconvert_exporter": "python",
   "pygments_lexer": "ipython3",
   "version": "3.8.5"
  }
 },
 "nbformat": 4,
 "nbformat_minor": 5
}
