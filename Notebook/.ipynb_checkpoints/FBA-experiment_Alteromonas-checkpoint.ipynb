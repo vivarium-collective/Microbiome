{
 "cells": [
  {
   "cell_type": "code",
   "execution_count": 12,
   "id": "896a9ac0",
   "metadata": {
    "tags": []
   },
   "outputs": [],
   "source": [
    "# required imports\n",
    "from vivarium.plots.simulation_output import _save_fig_to_dir as save_fig_to_dir\n",
    "import ast\n",
    "import cobra\n",
    "from cobra import io\n",
    "import sys\n",
    "%matplotlib inline\n",
    "import matplotlib.pyplot as plt\n",
    "from vivarium.plots.topology import plot_topology"
   ]
  },
  {
   "cell_type": "code",
   "execution_count": 13,
   "id": "298f3853",
   "metadata": {},
   "outputs": [],
   "source": [
    "# Define the path to the SBML model file\n",
    "model_path = \"../vivarium_microbiome/data/Alteromonas_Model.xml\"\n",
    "#model_path = \"../vivarium_microbiome/data/e_coli_core.xml\""
   ]
  },
  {
   "cell_type": "code",
   "execution_count": 14,
   "id": "adb06e40",
   "metadata": {},
   "outputs": [
    {
     "name": "stderr",
     "output_type": "stream",
     "text": [
      "ERROR:cobra.io.sbml:'' is not a valid SBML 'SId'.\n"
     ]
    }
   ],
   "source": [
    "# Load the model\n",
    "model = io.read_sbml_model(model_path)"
   ]
  },
  {
   "cell_type": "code",
   "execution_count": 15,
   "id": "9373b634",
   "metadata": {},
   "outputs": [
    {
     "name": "stdout",
     "output_type": "stream",
     "text": [
      "Total number of reactions: 881\n"
     ]
    }
   ],
   "source": [
    "# 1. Number of all reactions\n",
    "total_reactions = len(model.reactions)\n",
    "print(f\"Total number of reactions: {total_reactions}\")"
   ]
  },
  {
   "cell_type": "code",
   "execution_count": 16,
   "id": "08678d25",
   "metadata": {},
   "outputs": [
    {
     "name": "stdout",
     "output_type": "stream",
     "text": [
      "Number of exchange fluxes: 62\n"
     ]
    }
   ],
   "source": [
    "# 2. Number of exchange fluxes\n",
    "exchange_reactions = [reaction for reaction in model.reactions if reaction.id.startswith('EX_')]\n",
    "num_exchange_fluxes = len(exchange_reactions)\n",
    "print(f\"Number of exchange fluxes: {num_exchange_fluxes}\")"
   ]
  },
  {
   "cell_type": "code",
   "execution_count": 18,
   "id": "d1676144",
   "metadata": {},
   "outputs": [
    {
     "name": "stdout",
     "output_type": "stream",
     "text": [
      "Human-friendly exchange reactions information:\n"
     ]
    }
   ],
   "source": [
    "# Extract and print human-friendly information for exchange reactions\n",
    "exchange_reactions = [reaction for reaction in model.reactions if reaction.id.startswith('EX_')]\n",
    "print(\"Human-friendly exchange reactions information:\")\n",
    "for reaction in exchange_reactions:\n",
    "    # Format the bounds in a readable way\n",
    "    bounds = f\"[{reaction.lower_bound}, {reaction.upper_bound}]\"\n",
    "    \n",
    "    # Print the details\n",
    "    #print(f\"ID: {reaction.id}, Name: {reaction.name}, Bounds: {bounds}\")"
   ]
  },
  {
   "cell_type": "code",
   "execution_count": 19,
   "id": "f468a06a",
   "metadata": {},
   "outputs": [
    {
     "name": "stdout",
     "output_type": "stream",
     "text": [
      "The name of the reaction with ID 'EX_cpd00033_e0' is: 'Exchange for Glycine_e0'\n"
     ]
    }
   ],
   "source": [
    "# Optional: Specify the reaction ID for which you want to find the name\n",
    "reaction_id_to_find = \"EX_cpd00033_e0\"\n",
    "\n",
    "# Find the reaction by its ID and print its name\n",
    "for reaction in model.reactions:\n",
    "    if reaction.id == reaction_id_to_find:\n",
    "        print(f\"The name of the reaction with ID '{reaction_id_to_find}' is: '{reaction.name}'\")\n",
    "        break\n",
    "else:\n",
    "    print(f\"No reaction found with the ID '{reaction_id_to_find}'\")"
   ]
  },
  {
   "cell_type": "code",
   "execution_count": 23,
   "id": "765b5bda",
   "metadata": {},
   "outputs": [],
   "source": [
    "# Optional: Dictionary for exchange fluxes: ID as key, Name as value\n",
    "name_exchange_fluxes_dict = {reaction.id: reaction.name for reaction in model.reactions if reaction.id.startswith('EX_')}\n",
    "\n",
    "#print(exchange_fluxes_dict)"
   ]
  },
  {
   "cell_type": "code",
   "execution_count": 24,
   "id": "3303effa",
   "metadata": {},
   "outputs": [
    {
     "name": "stdout",
     "output_type": "stream",
     "text": [
      "{'EX_cpd00058_e0': '[-1000.0, 1000.0]', 'EX_cpd00065_e0': '[-1000.0, 1000.0]', 'EX_cpd03726_e0': '[-1000.0, 1000.0]', 'EX_cpd00039_e0': '[-1000.0, 1000.0]', 'EX_cpd00322_e0': '[-1000.0, 1000.0]', 'EX_cpd03453_e0': '[-1000.0, 1000.0]', 'EX_cpd00644_e0': '[-1000.0, 1000.0]', 'EX_cpd00007_e0': '[-1000.0, 1000.0]', 'EX_cpd00971_e0': '[-1000.0, 1000.0]', 'EX_cpd00132_e0': '[-1000.0, 1000.0]', 'EX_cpd00035_e0': '[-1000.0, 1000.0]', 'EX_cpd00393_e0': '[-1000.0, 1000.0]', 'EX_cpd00063_e0': '[-1000.0, 1000.0]', 'EX_cpd00028_e0': '[-1000.0, 1000.0]', 'EX_cpd01080_e0': '[-1000.0, 1000.0]', 'EX_cpd00048_e0': '[-1000.0, 1000.0]', 'EX_cpd00218_e0': '[-1000.0, 1000.0]', 'EX_cpd00017_e0': '[-1000.0, 1000.0]', 'EX_cpd00107_e0': '[-1000.0, 1000.0]', 'EX_cpd00067_e0': '[-1000.0, 1000.0]', 'EX_cpd00051_e0': '[-1000.0, 1000.0]', 'EX_cpd00116_e0': '[-1000.0, 1000.0]', 'EX_cpd00100_e0': '[-1000.0, 1000.0]', 'EX_cpd03847_e0': '[-1000.0, 1000.0]', 'EX_cpd00069_e0': '[-1000.0, 1000.0]', 'EX_cpd10516_e0': '[-1000.0, 1000.0]', 'EX_cpd00054_e0': '[-1000.0, 1000.0]', 'EX_cpd00119_e0': '[-1000.0, 1000.0]', 'EX_cpd00142_e0': '[-1000.0, 1000.0]', 'EX_cpd00254_e0': '[-1000.0, 1000.0]', 'EX_cpd00029_e0': '[-1000.0, 1000.0]', 'EX_cpd00084_e0': '[-1000.0, 1000.0]', 'EX_cpd00053_e0': '[-1000.0, 1000.0]', 'EX_cpd00118_e0': '[-1000.0, 1000.0]', 'EX_cpd00027_e0': '[-1000.0, 1000.0]', 'EX_cpd00156_e0': '[-1000.0, 1000.0]', 'EX_cpd00009_e0': '[-1000.0, 1000.0]', 'EX_cpd00047_e0': '[-1000.0, 1000.0]', 'EX_cpd00211_e0': '[-1000.0, 1000.0]', 'EX_cpd00305_e0': '[-1000.0, 1000.0]', 'EX_cpd00214_e0': '[-1000.0, 1000.0]', 'EX_cpd00129_e0': '[-1000.0, 1000.0]', 'EX_cpd00220_e0': '[-1000.0, 1000.0]', 'EX_cpd00264_e0': '[-1000.0, 1000.0]', 'EX_cpd00041_e0': '[-1000.0, 1000.0]', 'EX_cpd00205_e0': '[-1000.0, 1000.0]', 'EX_cpd00013_e0': '[-1000.0, 1000.0]', 'EX_cpd00099_e0': '[-1000.0, 1000.0]', 'EX_cpd00104_e0': '[-1000.0, 1000.0]', 'EX_cpd00011_e0': '[-1000.0, 1000.0]', 'EX_cpd00215_e0': '[-1000.0, 1000.0]', 'EX_cpd00030_e0': '[-1000.0, 1000.0]', 'EX_cpd00066_e0': '[-1000.0, 1000.0]', 'EX_cpd00075_e0': '[-1000.0, 1000.0]', 'EX_cpd00001_e0': '[-1000.0, 1000.0]', 'EX_cpd00635_e0': '[-1000.0, 1000.0]', 'EX_cpd00023_e0': '[-1000.0, 1000.0]', 'EX_cpd00034_e0': '[-1000.0, 1000.0]', 'EX_cpd00161_e0': '[-1000.0, 1000.0]', 'EX_cpd00149_e0': '[-1000.0, 1000.0]', 'EX_cpd00033_e0': '[-1000.0, 1000.0]', 'EX_cpd00060_e0': '[-1000.0, 1000.0]', 0: None}\n"
     ]
    }
   ],
   "source": [
    "# Dictionary for exchange fluxes: ID as key, Bounds as value\n",
    "bound_exchange_fluxes_dict = {reaction.id: f\"[{reaction.lower_bound}, {reaction.upper_bound}]\" \n",
    "                        for reaction in model.reactions if reaction.id.startswith('EX_')}\n",
    "\n",
    "# Adding an empty key and value\n",
    "new_key = \"None\"  # This is an example key. \n",
    "bound_exchange_fluxes_dict[new_key] = 0\n",
    "\n",
    "# Print the dictionary\n",
    "print(bound_exchange_fluxes_dict)"
   ]
  },
  {
   "cell_type": "code",
   "execution_count": 40,
   "id": "e211bf8f",
   "metadata": {},
   "outputs": [],
   "source": [
    "# Import the FBA class and the main function from the Fba_process.py file\n",
    "sys.path.append('../vivarium_microbiome/processes/Altrmns/')\n",
    "from Fba import FBA, main"
   ]
  },
  {
   "cell_type": "code",
   "execution_count": 41,
   "id": "c861f9fc",
   "metadata": {},
   "outputs": [
    {
     "name": "stderr",
     "output_type": "stream",
     "text": [
      "ERROR:cobra.io.sbml:'' is not a valid SBML 'SId'.\n"
     ]
    },
    {
     "name": "stdout",
     "output_type": "stream",
     "text": [
      "\n",
      "Simulation ID: 179ff4b8-961a-11ee-a567-ba21c95c07d9\n",
      "Created: 12/08/2023 at 17:35:30\n",
      "Completed in 0.070756 seconds\n",
      "Set Exchange for Cu2+_e0 as Zero. Flux ID: EX_cpd00058_e0\n"
     ]
    },
    {
     "name": "stderr",
     "output_type": "stream",
     "text": [
      "ERROR:cobra.io.sbml:'' is not a valid SBML 'SId'.\n"
     ]
    },
    {
     "name": "stdout",
     "output_type": "stream",
     "text": [
      "\n",
      "Simulation ID: 1828de40-961a-11ee-a567-ba21c95c07d9\n",
      "Created: 12/08/2023 at 17:35:31\n",
      "Completed in 0.070218 seconds\n",
      "Set Exchange for L-Tryptophan_e0 as Zero. Flux ID: EX_cpd00065_e0\n"
     ]
    },
    {
     "name": "stderr",
     "output_type": "stream",
     "text": [
      "ERROR:cobra.io.sbml:'' is not a valid SBML 'SId'.\n"
     ]
    },
    {
     "name": "stdout",
     "output_type": "stream",
     "text": [
      "\n",
      "Simulation ID: 18c6ddac-961a-11ee-a567-ba21c95c07d9\n",
      "Created: 12/08/2023 at 17:35:32\n",
      "Completed in 0.070344 seconds\n",
      "Set Exchange for Fe-enterochlin_e0 as Zero. Flux ID: EX_cpd03726_e0\n"
     ]
    },
    {
     "name": "stderr",
     "output_type": "stream",
     "text": [
      "ERROR:cobra.io.sbml:'' is not a valid SBML 'SId'.\n"
     ]
    },
    {
     "name": "stdout",
     "output_type": "stream",
     "text": [
      "\n",
      "Simulation ID: 194f264e-961a-11ee-a567-ba21c95c07d9\n",
      "Created: 12/08/2023 at 17:35:33\n",
      "Completed in 0.070481 seconds\n",
      "Set Exchange for L-Lysine_e0 as Zero. Flux ID: EX_cpd00039_e0\n"
     ]
    },
    {
     "name": "stderr",
     "output_type": "stream",
     "text": [
      "ERROR:cobra.io.sbml:'' is not a valid SBML 'SId'.\n"
     ]
    },
    {
     "name": "stdout",
     "output_type": "stream",
     "text": [
      "\n",
      "Simulation ID: 19d7b8d8-961a-11ee-a567-ba21c95c07d9\n",
      "Created: 12/08/2023 at 17:35:34\n",
      "Completed in 0.068679 seconds\n",
      "Set Exchange for L-Isoleucine_e0 as Zero. Flux ID: EX_cpd00322_e0\n"
     ]
    },
    {
     "name": "stderr",
     "output_type": "stream",
     "text": [
      "ERROR:cobra.io.sbml:'' is not a valid SBML 'SId'.\n"
     ]
    },
    {
     "name": "stdout",
     "output_type": "stream",
     "text": [
      "\n",
      "Simulation ID: 1a7635b2-961a-11ee-a567-ba21c95c07d9\n",
      "Created: 12/08/2023 at 17:35:35\n",
      "Completed in 0.070041 seconds\n",
      "Set Exchange for Enterobactin_e0 as Zero. Flux ID: EX_cpd03453_e0\n"
     ]
    },
    {
     "name": "stderr",
     "output_type": "stream",
     "text": [
      "ERROR:cobra.io.sbml:'' is not a valid SBML 'SId'.\n",
      "ERROR:cobra.io.sbml:'' is not a valid SBML 'SId'.\n"
     ]
    },
    {
     "name": "stdout",
     "output_type": "stream",
     "text": [
      "\n",
      "Simulation ID: 1afe4fba-961a-11ee-a567-ba21c95c07d9\n",
      "Created: 12/08/2023 at 17:35:36\n",
      "Completed in 0.069735 seconds\n",
      "Set Exchange for PAN_e0 as Zero. Flux ID: EX_cpd00644_e0\n",
      "\n",
      "Simulation ID: 1b87d078-961a-11ee-a567-ba21c95c07d9\n",
      "Created: 12/08/2023 at 17:35:37\n",
      "Completed in 0.070421 seconds\n",
      "Set Exchange for O2_e0 as Zero. Flux ID: EX_cpd00007_e0\n"
     ]
    },
    {
     "name": "stderr",
     "output_type": "stream",
     "text": [
      "ERROR:cobra.io.sbml:'' is not a valid SBML 'SId'.\n"
     ]
    },
    {
     "name": "stdout",
     "output_type": "stream",
     "text": [
      "\n",
      "Simulation ID: 1c10b06e-961a-11ee-a567-ba21c95c07d9\n",
      "Created: 12/08/2023 at 17:35:37\n",
      "Completed in 0.069097 seconds\n",
      "Set Exchange for Na+_e0 as Zero. Flux ID: EX_cpd00971_e0\n"
     ]
    },
    {
     "name": "stderr",
     "output_type": "stream",
     "text": [
      "ERROR:cobra.io.sbml:'' is not a valid SBML 'SId'.\n"
     ]
    },
    {
     "name": "stdout",
     "output_type": "stream",
     "text": [
      "\n",
      "Simulation ID: 1caf3694-961a-11ee-a567-ba21c95c07d9\n",
      "Created: 12/08/2023 at 17:35:38\n",
      "Completed in 0.068812 seconds\n",
      "Set Exchange for L-Asparagine_e0 as Zero. Flux ID: EX_cpd00132_e0\n"
     ]
    },
    {
     "name": "stderr",
     "output_type": "stream",
     "text": [
      "ERROR:cobra.io.sbml:'' is not a valid SBML 'SId'.\n"
     ]
    },
    {
     "name": "stdout",
     "output_type": "stream",
     "text": [
      "\n",
      "Simulation ID: 1d37072c-961a-11ee-a567-ba21c95c07d9\n",
      "Created: 12/08/2023 at 17:35:39\n",
      "Completed in 0.070735 seconds\n",
      "Set Exchange for L-Alanine_e0 as Zero. Flux ID: EX_cpd00035_e0\n"
     ]
    },
    {
     "name": "stderr",
     "output_type": "stream",
     "text": [
      "ERROR:cobra.io.sbml:'' is not a valid SBML 'SId'.\n"
     ]
    },
    {
     "name": "stdout",
     "output_type": "stream",
     "text": [
      "\n",
      "Simulation ID: 1dbf65fe-961a-11ee-a567-ba21c95c07d9\n",
      "Created: 12/08/2023 at 17:35:40\n",
      "Completed in 0.069905 seconds\n",
      "Set Exchange for Folate_e0 as Zero. Flux ID: EX_cpd00393_e0\n"
     ]
    },
    {
     "name": "stderr",
     "output_type": "stream",
     "text": [
      "ERROR:cobra.io.sbml:'' is not a valid SBML 'SId'.\n"
     ]
    },
    {
     "name": "stdout",
     "output_type": "stream",
     "text": [
      "\n",
      "Simulation ID: 1e5d1484-961a-11ee-a567-ba21c95c07d9\n",
      "Created: 12/08/2023 at 17:35:41\n",
      "Completed in 0.069130 seconds\n",
      "Set Exchange for Ca2+_e0 as Zero. Flux ID: EX_cpd00063_e0\n"
     ]
    },
    {
     "name": "stderr",
     "output_type": "stream",
     "text": [
      "ERROR:cobra.io.sbml:'' is not a valid SBML 'SId'.\n"
     ]
    },
    {
     "name": "stdout",
     "output_type": "stream",
     "text": [
      "\n",
      "Simulation ID: 1ee58440-961a-11ee-a567-ba21c95c07d9\n",
      "Created: 12/08/2023 at 17:35:42\n",
      "Completed in 0.068843 seconds\n",
      "Set Exchange for Heme_e0 as Zero. Flux ID: EX_cpd00028_e0\n"
     ]
    },
    {
     "name": "stderr",
     "output_type": "stream",
     "text": [
      "ERROR:cobra.io.sbml:'' is not a valid SBML 'SId'.\n"
     ]
    },
    {
     "name": "stdout",
     "output_type": "stream",
     "text": [
      "\n",
      "Simulation ID: 1f73bc9c-961a-11ee-a567-ba21c95c07d9\n",
      "Created: 12/08/2023 at 17:35:43\n",
      "Completed in 0.070503 seconds\n",
      "Set Exchange for ocdca_e0 as Zero. Flux ID: EX_cpd01080_e0\n"
     ]
    },
    {
     "name": "stderr",
     "output_type": "stream",
     "text": [
      "ERROR:cobra.io.sbml:'' is not a valid SBML 'SId'.\n"
     ]
    },
    {
     "name": "stdout",
     "output_type": "stream",
     "text": [
      "\n",
      "Simulation ID: 2010c4ec-961a-11ee-a567-ba21c95c07d9\n",
      "Created: 12/08/2023 at 17:35:44\n",
      "Completed in 0.069407 seconds\n",
      "Set Exchange for Sulfate_e0 as Zero. Flux ID: EX_cpd00048_e0\n"
     ]
    },
    {
     "name": "stderr",
     "output_type": "stream",
     "text": [
      "ERROR:cobra.io.sbml:'' is not a valid SBML 'SId'.\n"
     ]
    },
    {
     "name": "stdout",
     "output_type": "stream",
     "text": [
      "\n",
      "Simulation ID: 2098a0b0-961a-11ee-a567-ba21c95c07d9\n",
      "Created: 12/08/2023 at 17:35:45\n",
      "Completed in 0.068858 seconds\n",
      "Set Exchange for Niacin_e0 as Zero. Flux ID: EX_cpd00218_e0\n"
     ]
    },
    {
     "name": "stderr",
     "output_type": "stream",
     "text": [
      "ERROR:cobra.io.sbml:'' is not a valid SBML 'SId'.\n"
     ]
    },
    {
     "name": "stdout",
     "output_type": "stream",
     "text": [
      "\n",
      "Simulation ID: 2120f168-961a-11ee-a567-ba21c95c07d9\n",
      "Created: 12/08/2023 at 17:35:46\n",
      "Completed in 0.070092 seconds\n",
      "Set Exchange for S-Adenosyl-L-methionine_e0 as Zero. Flux ID: EX_cpd00017_e0\n"
     ]
    },
    {
     "name": "stderr",
     "output_type": "stream",
     "text": [
      "ERROR:cobra.io.sbml:'' is not a valid SBML 'SId'.\n"
     ]
    },
    {
     "name": "stdout",
     "output_type": "stream",
     "text": [
      "\n",
      "Simulation ID: 21a959cc-961a-11ee-a567-ba21c95c07d9\n",
      "Created: 12/08/2023 at 17:35:47\n",
      "Completed in 0.070041 seconds\n",
      "Set Exchange for L-Leucine_e0 as Zero. Flux ID: EX_cpd00107_e0\n"
     ]
    },
    {
     "name": "stderr",
     "output_type": "stream",
     "text": [
      "ERROR:cobra.io.sbml:'' is not a valid SBML 'SId'.\n"
     ]
    },
    {
     "name": "stdout",
     "output_type": "stream",
     "text": [
      "\n",
      "Simulation ID: 2245a1b0-961a-11ee-a567-ba21c95c07d9\n",
      "Created: 12/08/2023 at 17:35:48\n",
      "Completed in 0.069288 seconds\n",
      "Set Exchange for H+_e0 as Zero. Flux ID: EX_cpd00067_e0\n"
     ]
    },
    {
     "name": "stderr",
     "output_type": "stream",
     "text": [
      "ERROR:cobra.io.sbml:'' is not a valid SBML 'SId'.\n"
     ]
    },
    {
     "name": "stdout",
     "output_type": "stream",
     "text": [
      "\n",
      "Simulation ID: 22cdb442-961a-11ee-a567-ba21c95c07d9\n",
      "Created: 12/08/2023 at 17:35:49\n",
      "Completed in 0.068883 seconds\n",
      "Set Exchange for L-Arginine_e0 as Zero. Flux ID: EX_cpd00051_e0\n"
     ]
    },
    {
     "name": "stderr",
     "output_type": "stream",
     "text": [
      "ERROR:cobra.io.sbml:'' is not a valid SBML 'SId'.\n"
     ]
    },
    {
     "name": "stdout",
     "output_type": "stream",
     "text": [
      "\n",
      "Simulation ID: 2357576a-961a-11ee-a567-ba21c95c07d9\n",
      "Created: 12/08/2023 at 17:35:50\n",
      "Completed in 0.069770 seconds\n",
      "Set Exchange for Methanol_e0 as Zero. Flux ID: EX_cpd00116_e0\n"
     ]
    },
    {
     "name": "stderr",
     "output_type": "stream",
     "text": [
      "ERROR:cobra.io.sbml:'' is not a valid SBML 'SId'.\n"
     ]
    },
    {
     "name": "stdout",
     "output_type": "stream",
     "text": [
      "\n",
      "Simulation ID: 23f3b510-961a-11ee-a567-ba21c95c07d9\n",
      "Created: 12/08/2023 at 17:35:51\n",
      "Completed in 0.069235 seconds\n",
      "Set Exchange for Glycerol_e0 as Zero. Flux ID: EX_cpd00100_e0\n"
     ]
    },
    {
     "name": "stderr",
     "output_type": "stream",
     "text": [
      "ERROR:cobra.io.sbml:'' is not a valid SBML 'SId'.\n"
     ]
    },
    {
     "name": "stdout",
     "output_type": "stream",
     "text": [
      "\n",
      "Simulation ID: 247c538e-961a-11ee-a567-ba21c95c07d9\n",
      "Created: 12/08/2023 at 17:35:52\n",
      "Completed in 0.070431 seconds\n",
      "Set Exchange for Myristic acid_e0 as Zero. Flux ID: EX_cpd03847_e0\n"
     ]
    },
    {
     "name": "stderr",
     "output_type": "stream",
     "text": [
      "ERROR:cobra.io.sbml:'' is not a valid SBML 'SId'.\n"
     ]
    },
    {
     "name": "stdout",
     "output_type": "stream",
     "text": [
      "\n",
      "Simulation ID: 25053906-961a-11ee-a567-ba21c95c07d9\n",
      "Created: 12/08/2023 at 17:35:52\n",
      "Completed in 0.070342 seconds\n",
      "Set Exchange for L-Tyrosine_e0 as Zero. Flux ID: EX_cpd00069_e0\n"
     ]
    },
    {
     "name": "stderr",
     "output_type": "stream",
     "text": [
      "ERROR:cobra.io.sbml:'' is not a valid SBML 'SId'.\n"
     ]
    },
    {
     "name": "stdout",
     "output_type": "stream",
     "text": [
      "\n",
      "Simulation ID: 258d9cec-961a-11ee-a567-ba21c95c07d9\n",
      "Created: 12/08/2023 at 17:35:53\n",
      "Completed in 0.068713 seconds\n",
      "Set Exchange for fe3_e0 as Zero. Flux ID: EX_cpd10516_e0\n"
     ]
    },
    {
     "name": "stderr",
     "output_type": "stream",
     "text": [
      "ERROR:cobra.io.sbml:'' is not a valid SBML 'SId'.\n"
     ]
    },
    {
     "name": "stdout",
     "output_type": "stream",
     "text": [
      "\n",
      "Simulation ID: 26348d7c-961a-11ee-a567-ba21c95c07d9\n",
      "Created: 12/08/2023 at 17:35:54\n",
      "Completed in 0.068791 seconds\n",
      "Set Exchange for L-Serine_e0 as Zero. Flux ID: EX_cpd00054_e0\n"
     ]
    },
    {
     "name": "stderr",
     "output_type": "stream",
     "text": [
      "ERROR:cobra.io.sbml:'' is not a valid SBML 'SId'.\n"
     ]
    },
    {
     "name": "stdout",
     "output_type": "stream",
     "text": [
      "\n",
      "Simulation ID: 26bcb65c-961a-11ee-a567-ba21c95c07d9\n",
      "Created: 12/08/2023 at 17:35:55\n",
      "Completed in 0.068932 seconds\n",
      "Set Exchange for L-Histidine_e0 as Zero. Flux ID: EX_cpd00119_e0\n"
     ]
    },
    {
     "name": "stderr",
     "output_type": "stream",
     "text": [
      "ERROR:cobra.io.sbml:'' is not a valid SBML 'SId'.\n"
     ]
    },
    {
     "name": "stdout",
     "output_type": "stream",
     "text": [
      "\n",
      "Simulation ID: 274564b6-961a-11ee-a567-ba21c95c07d9\n",
      "Created: 12/08/2023 at 17:35:56\n",
      "Completed in 0.069087 seconds\n",
      "Set Exchange for Acetoacetate_e0 as Zero. Flux ID: EX_cpd00142_e0\n"
     ]
    },
    {
     "name": "stderr",
     "output_type": "stream",
     "text": [
      "ERROR:cobra.io.sbml:'' is not a valid SBML 'SId'.\n"
     ]
    },
    {
     "name": "stdout",
     "output_type": "stream",
     "text": [
      "\n",
      "Simulation ID: 27e205dc-961a-11ee-a567-ba21c95c07d9\n",
      "Created: 12/08/2023 at 17:35:57\n",
      "Completed in 0.069326 seconds\n",
      "Set Exchange for Mg_e0 as Zero. Flux ID: EX_cpd00254_e0\n"
     ]
    },
    {
     "name": "stderr",
     "output_type": "stream",
     "text": [
      "ERROR:cobra.io.sbml:'' is not a valid SBML 'SId'.\n"
     ]
    },
    {
     "name": "stdout",
     "output_type": "stream",
     "text": [
      "\n",
      "Simulation ID: 2869e9d4-961a-11ee-a567-ba21c95c07d9\n",
      "Created: 12/08/2023 at 17:35:58\n",
      "Completed in 0.070198 seconds\n",
      "Set Exchange for Acetate_e0 as Zero. Flux ID: EX_cpd00029_e0\n"
     ]
    },
    {
     "name": "stderr",
     "output_type": "stream",
     "text": [
      "ERROR:cobra.io.sbml:'' is not a valid SBML 'SId'.\n"
     ]
    },
    {
     "name": "stdout",
     "output_type": "stream",
     "text": [
      "\n",
      "Simulation ID: 28f372c6-961a-11ee-a567-ba21c95c07d9\n",
      "Created: 12/08/2023 at 17:35:59\n",
      "Completed in 0.068779 seconds\n",
      "Set Exchange for L-Cysteine_e0 as Zero. Flux ID: EX_cpd00084_e0\n"
     ]
    },
    {
     "name": "stderr",
     "output_type": "stream",
     "text": [
      "ERROR:cobra.io.sbml:'' is not a valid SBML 'SId'.\n"
     ]
    },
    {
     "name": "stdout",
     "output_type": "stream",
     "text": [
      "\n",
      "Simulation ID: 297c233c-961a-11ee-a567-ba21c95c07d9\n",
      "Created: 12/08/2023 at 17:36:00\n",
      "Completed in 0.068962 seconds\n",
      "Set Exchange for L-Glutamine_e0 as Zero. Flux ID: EX_cpd00053_e0\n"
     ]
    },
    {
     "name": "stderr",
     "output_type": "stream",
     "text": [
      "ERROR:cobra.io.sbml:'' is not a valid SBML 'SId'.\n"
     ]
    },
    {
     "name": "stdout",
     "output_type": "stream",
     "text": [
      "\n",
      "Simulation ID: 2a18b01c-961a-11ee-a567-ba21c95c07d9\n",
      "Created: 12/08/2023 at 17:36:01\n",
      "Completed in 0.070060 seconds\n",
      "Set Exchange for Putrescine_e0 as Zero. Flux ID: EX_cpd00118_e0\n"
     ]
    },
    {
     "name": "stderr",
     "output_type": "stream",
     "text": [
      "ERROR:cobra.io.sbml:'' is not a valid SBML 'SId'.\n"
     ]
    },
    {
     "name": "stdout",
     "output_type": "stream",
     "text": [
      "\n",
      "Simulation ID: 2aa0a9c2-961a-11ee-a567-ba21c95c07d9\n",
      "Created: 12/08/2023 at 17:36:02\n",
      "Completed in 0.069175 seconds\n",
      "Set Exchange for D-Glucose_e0 as Zero. Flux ID: EX_cpd00027_e0\n"
     ]
    },
    {
     "name": "stderr",
     "output_type": "stream",
     "text": [
      "ERROR:cobra.io.sbml:'' is not a valid SBML 'SId'.\n"
     ]
    },
    {
     "name": "stdout",
     "output_type": "stream",
     "text": [
      "\n",
      "Simulation ID: 2b2838c4-961a-11ee-a567-ba21c95c07d9\n",
      "Created: 12/08/2023 at 17:36:03\n",
      "Completed in 0.068679 seconds\n",
      "Set Exchange for L-Valine_e0 as Zero. Flux ID: EX_cpd00156_e0\n"
     ]
    },
    {
     "name": "stderr",
     "output_type": "stream",
     "text": [
      "ERROR:cobra.io.sbml:'' is not a valid SBML 'SId'.\n"
     ]
    },
    {
     "name": "stdout",
     "output_type": "stream",
     "text": [
      "\n",
      "Simulation ID: 2bc7a6ca-961a-11ee-a567-ba21c95c07d9\n",
      "Created: 12/08/2023 at 17:36:04\n",
      "Completed in 0.070731 seconds\n",
      "Set Exchange for Phosphate_e0 as Zero. Flux ID: EX_cpd00009_e0\n"
     ]
    },
    {
     "name": "stderr",
     "output_type": "stream",
     "text": [
      "ERROR:cobra.io.sbml:'' is not a valid SBML 'SId'.\n"
     ]
    },
    {
     "name": "stdout",
     "output_type": "stream",
     "text": [
      "\n",
      "Simulation ID: 2c4ff2a0-961a-11ee-a567-ba21c95c07d9\n",
      "Created: 12/08/2023 at 17:36:05\n",
      "Completed in 0.074779 seconds\n",
      "Set Exchange for Formate_e0 as Zero. Flux ID: EX_cpd00047_e0\n"
     ]
    },
    {
     "name": "stderr",
     "output_type": "stream",
     "text": [
      "ERROR:cobra.io.sbml:'' is not a valid SBML 'SId'.\n"
     ]
    },
    {
     "name": "stdout",
     "output_type": "stream",
     "text": [
      "\n",
      "Simulation ID: 2cda68a4-961a-11ee-a567-ba21c95c07d9\n",
      "Created: 12/08/2023 at 17:36:06\n",
      "Completed in 0.068974 seconds\n",
      "Set Exchange for Butyrate_e0 as Zero. Flux ID: EX_cpd00211_e0\n"
     ]
    },
    {
     "name": "stderr",
     "output_type": "stream",
     "text": [
      "ERROR:cobra.io.sbml:'' is not a valid SBML 'SId'.\n"
     ]
    },
    {
     "name": "stdout",
     "output_type": "stream",
     "text": [
      "\n",
      "Simulation ID: 2d69a08c-961a-11ee-a567-ba21c95c07d9\n",
      "Created: 12/08/2023 at 17:36:07\n",
      "Completed in 0.069865 seconds\n",
      "Set Exchange for Thiamin_e0 as Zero. Flux ID: EX_cpd00305_e0\n"
     ]
    },
    {
     "name": "stderr",
     "output_type": "stream",
     "text": [
      "ERROR:cobra.io.sbml:'' is not a valid SBML 'SId'.\n"
     ]
    },
    {
     "name": "stdout",
     "output_type": "stream",
     "text": [
      "\n",
      "Simulation ID: 2e068898-961a-11ee-a567-ba21c95c07d9\n",
      "Created: 12/08/2023 at 17:36:08\n",
      "Completed in 0.069325 seconds\n",
      "Set Exchange for Palmitate_e0 as Zero. Flux ID: EX_cpd00214_e0\n"
     ]
    },
    {
     "name": "stderr",
     "output_type": "stream",
     "text": [
      "ERROR:cobra.io.sbml:'' is not a valid SBML 'SId'.\n"
     ]
    },
    {
     "name": "stdout",
     "output_type": "stream",
     "text": [
      "\n",
      "Simulation ID: 2e8f7c3e-961a-11ee-a567-ba21c95c07d9\n",
      "Created: 12/08/2023 at 17:36:08\n",
      "Completed in 0.069630 seconds\n",
      "Set Exchange for L-Proline_e0 as Zero. Flux ID: EX_cpd00129_e0\n"
     ]
    },
    {
     "name": "stderr",
     "output_type": "stream",
     "text": [
      "ERROR:cobra.io.sbml:'' is not a valid SBML 'SId'.\n"
     ]
    },
    {
     "name": "stdout",
     "output_type": "stream",
     "text": [
      "\n",
      "Simulation ID: 2f1739d0-961a-11ee-a567-ba21c95c07d9\n",
      "Created: 12/08/2023 at 17:36:09\n",
      "Completed in 0.069417 seconds\n",
      "Set Exchange for Riboflavin_e0 as Zero. Flux ID: EX_cpd00220_e0\n"
     ]
    },
    {
     "name": "stderr",
     "output_type": "stream",
     "text": [
      "ERROR:cobra.io.sbml:'' is not a valid SBML 'SId'.\n"
     ]
    },
    {
     "name": "stdout",
     "output_type": "stream",
     "text": [
      "\n",
      "Simulation ID: 2fb48d20-961a-11ee-a567-ba21c95c07d9\n",
      "Created: 12/08/2023 at 17:36:10\n",
      "Completed in 0.070727 seconds\n",
      "Set Exchange for Spermidine_e0 as Zero. Flux ID: EX_cpd00264_e0\n"
     ]
    },
    {
     "name": "stderr",
     "output_type": "stream",
     "text": [
      "ERROR:cobra.io.sbml:'' is not a valid SBML 'SId'.\n"
     ]
    },
    {
     "name": "stdout",
     "output_type": "stream",
     "text": [
      "\n",
      "Simulation ID: 303caab6-961a-11ee-a567-ba21c95c07d9\n",
      "Created: 12/08/2023 at 17:36:11\n",
      "Completed in 0.070041 seconds\n",
      "Set Exchange for L-Aspartate_e0 as Zero. Flux ID: EX_cpd00041_e0\n"
     ]
    },
    {
     "name": "stderr",
     "output_type": "stream",
     "text": [
      "ERROR:cobra.io.sbml:'' is not a valid SBML 'SId'.\n"
     ]
    },
    {
     "name": "stdout",
     "output_type": "stream",
     "text": [
      "\n",
      "Simulation ID: 30c57cec-961a-11ee-a567-ba21c95c07d9\n",
      "Created: 12/08/2023 at 17:36:12\n",
      "Completed in 0.070076 seconds\n",
      "Set Exchange for K+_e0 as Zero. Flux ID: EX_cpd00205_e0\n"
     ]
    },
    {
     "name": "stderr",
     "output_type": "stream",
     "text": [
      "ERROR:cobra.io.sbml:'' is not a valid SBML 'SId'.\n",
      "ERROR:cobra.io.sbml:'' is not a valid SBML 'SId'.\n"
     ]
    },
    {
     "name": "stdout",
     "output_type": "stream",
     "text": [
      "\n",
      "Simulation ID: 31628aa0-961a-11ee-a567-ba21c95c07d9\n",
      "Created: 12/08/2023 at 17:36:13\n",
      "Completed in 0.069046 seconds\n",
      "Set Exchange for NH3_e0 as Zero. Flux ID: EX_cpd00013_e0\n",
      "\n",
      "Simulation ID: 31ecc940-961a-11ee-a567-ba21c95c07d9\n",
      "Created: 12/08/2023 at 17:36:14\n",
      "Completed in 0.069860 seconds\n",
      "Set Exchange for Cl-_e0 as Zero. Flux ID: EX_cpd00099_e0\n"
     ]
    },
    {
     "name": "stderr",
     "output_type": "stream",
     "text": [
      "ERROR:cobra.io.sbml:'' is not a valid SBML 'SId'.\n"
     ]
    },
    {
     "name": "stdout",
     "output_type": "stream",
     "text": [
      "\n",
      "Simulation ID: 32762294-961a-11ee-a567-ba21c95c07d9\n",
      "Created: 12/08/2023 at 17:36:15\n",
      "Completed in 0.068981 seconds\n",
      "Set Exchange for BIOT_e0 as Zero. Flux ID: EX_cpd00104_e0\n"
     ]
    },
    {
     "name": "stderr",
     "output_type": "stream",
     "text": [
      "ERROR:cobra.io.sbml:'' is not a valid SBML 'SId'.\n"
     ]
    },
    {
     "name": "stdout",
     "output_type": "stream",
     "text": [
      "\n",
      "Simulation ID: 32fe7d1a-961a-11ee-a567-ba21c95c07d9\n",
      "Created: 12/08/2023 at 17:36:16\n",
      "Completed in 0.069054 seconds\n",
      "Set Exchange for CO2_e0 as Zero. Flux ID: EX_cpd00011_e0\n"
     ]
    },
    {
     "name": "stderr",
     "output_type": "stream",
     "text": [
      "ERROR:cobra.io.sbml:'' is not a valid SBML 'SId'.\n"
     ]
    },
    {
     "name": "stdout",
     "output_type": "stream",
     "text": [
      "\n",
      "Simulation ID: 339d8504-961a-11ee-a567-ba21c95c07d9\n",
      "Created: 12/08/2023 at 17:36:17\n",
      "Completed in 0.069442 seconds\n",
      "Set Exchange for Pyridoxal_e0 as Zero. Flux ID: EX_cpd00215_e0\n"
     ]
    },
    {
     "name": "stderr",
     "output_type": "stream",
     "text": [
      "ERROR:cobra.io.sbml:'' is not a valid SBML 'SId'.\n"
     ]
    },
    {
     "name": "stdout",
     "output_type": "stream",
     "text": [
      "\n",
      "Simulation ID: 3427c188-961a-11ee-a567-ba21c95c07d9\n",
      "Created: 12/08/2023 at 17:36:18\n",
      "Completed in 0.069781 seconds\n",
      "Set Exchange for Mn2+_e0 as Zero. Flux ID: EX_cpd00030_e0\n"
     ]
    },
    {
     "name": "stderr",
     "output_type": "stream",
     "text": [
      "ERROR:cobra.io.sbml:'' is not a valid SBML 'SId'.\n"
     ]
    },
    {
     "name": "stdout",
     "output_type": "stream",
     "text": [
      "\n",
      "Simulation ID: 34afbd5e-961a-11ee-a567-ba21c95c07d9\n",
      "Created: 12/08/2023 at 17:36:19\n",
      "Completed in 0.069281 seconds\n",
      "Set Exchange for L-Phenylalanine_e0 as Zero. Flux ID: EX_cpd00066_e0\n"
     ]
    },
    {
     "name": "stderr",
     "output_type": "stream",
     "text": [
      "ERROR:cobra.io.sbml:'' is not a valid SBML 'SId'.\n"
     ]
    },
    {
     "name": "stdout",
     "output_type": "stream",
     "text": [
      "\n",
      "Simulation ID: 354df758-961a-11ee-a567-ba21c95c07d9\n",
      "Created: 12/08/2023 at 17:36:20\n",
      "Completed in 0.079923 seconds\n",
      "Set Exchange for Nitrite_e0 as Zero. Flux ID: EX_cpd00075_e0\n"
     ]
    },
    {
     "name": "stderr",
     "output_type": "stream",
     "text": [
      "ERROR:cobra.io.sbml:'' is not a valid SBML 'SId'.\n"
     ]
    },
    {
     "name": "stdout",
     "output_type": "stream",
     "text": [
      "\n",
      "Simulation ID: 35ddb528-961a-11ee-a567-ba21c95c07d9\n",
      "Created: 12/08/2023 at 17:36:21\n",
      "Completed in 0.069356 seconds\n",
      "Set Exchange for H2O_e0 as Zero. Flux ID: EX_cpd00001_e0\n"
     ]
    },
    {
     "name": "stderr",
     "output_type": "stream",
     "text": [
      "ERROR:cobra.io.sbml:'' is not a valid SBML 'SId'.\n"
     ]
    },
    {
     "name": "stdout",
     "output_type": "stream",
     "text": [
      "\n",
      "Simulation ID: 3665e740-961a-11ee-a567-ba21c95c07d9\n",
      "Created: 12/08/2023 at 17:36:22\n",
      "Completed in 0.069773 seconds\n",
      "Set Exchange for Cbl_e0 as Zero. Flux ID: EX_cpd00635_e0\n"
     ]
    },
    {
     "name": "stderr",
     "output_type": "stream",
     "text": [
      "ERROR:cobra.io.sbml:'' is not a valid SBML 'SId'.\n"
     ]
    },
    {
     "name": "stdout",
     "output_type": "stream",
     "text": [
      "\n",
      "Simulation ID: 36ed0e5a-961a-11ee-a567-ba21c95c07d9\n",
      "Created: 12/08/2023 at 17:36:22\n",
      "Completed in 0.069949 seconds\n",
      "Set Exchange for L-Glutamate_e0 as Zero. Flux ID: EX_cpd00023_e0\n"
     ]
    },
    {
     "name": "stderr",
     "output_type": "stream",
     "text": [
      "ERROR:cobra.io.sbml:'' is not a valid SBML 'SId'.\n"
     ]
    },
    {
     "name": "stdout",
     "output_type": "stream",
     "text": [
      "\n",
      "Simulation ID: 378aae9e-961a-11ee-a567-ba21c95c07d9\n",
      "Created: 12/08/2023 at 17:36:24\n",
      "Completed in 0.070267 seconds\n",
      "Set Exchange for Zn2+_e0 as Zero. Flux ID: EX_cpd00034_e0\n"
     ]
    },
    {
     "name": "stderr",
     "output_type": "stream",
     "text": [
      "ERROR:cobra.io.sbml:'' is not a valid SBML 'SId'.\n"
     ]
    },
    {
     "name": "stdout",
     "output_type": "stream",
     "text": [
      "\n",
      "Simulation ID: 3812d5da-961a-11ee-a567-ba21c95c07d9\n",
      "Created: 12/08/2023 at 17:36:24\n",
      "Completed in 0.069703 seconds\n",
      "Set Exchange for L-Threonine_e0 as Zero. Flux ID: EX_cpd00161_e0\n"
     ]
    },
    {
     "name": "stderr",
     "output_type": "stream",
     "text": [
      "ERROR:cobra.io.sbml:'' is not a valid SBML 'SId'.\n"
     ]
    },
    {
     "name": "stdout",
     "output_type": "stream",
     "text": [
      "\n",
      "Simulation ID: 389b00ea-961a-11ee-a567-ba21c95c07d9\n",
      "Created: 12/08/2023 at 17:36:25\n",
      "Completed in 0.069850 seconds\n",
      "Set Exchange for Co2+_e0 as Zero. Flux ID: EX_cpd00149_e0\n"
     ]
    },
    {
     "name": "stderr",
     "output_type": "stream",
     "text": [
      "ERROR:cobra.io.sbml:'' is not a valid SBML 'SId'.\n"
     ]
    },
    {
     "name": "stdout",
     "output_type": "stream",
     "text": [
      "\n",
      "Simulation ID: 39398b66-961a-11ee-a567-ba21c95c07d9\n",
      "Created: 12/08/2023 at 17:36:26\n",
      "Completed in 0.069983 seconds\n",
      "Set Exchange for Glycine_e0 as Zero. Flux ID: EX_cpd00033_e0\n"
     ]
    },
    {
     "name": "stderr",
     "output_type": "stream",
     "text": [
      "ERROR:cobra.io.sbml:'' is not a valid SBML 'SId'.\n"
     ]
    },
    {
     "name": "stdout",
     "output_type": "stream",
     "text": [
      "\n",
      "Simulation ID: 39c2fd74-961a-11ee-a567-ba21c95c07d9\n",
      "Created: 12/08/2023 at 17:36:27\n",
      "Completed in 0.070254 seconds\n",
      "Set Exchange for L-Methionine_e0 as Zero. Flux ID: EX_cpd00060_e0\n"
     ]
    },
    {
     "name": "stderr",
     "output_type": "stream",
     "text": [
      "ERROR:cobra.io.sbml:'' is not a valid SBML 'SId'.\n"
     ]
    },
    {
     "name": "stdout",
     "output_type": "stream",
     "text": [
      "\n",
      "Simulation ID: 3a4c3b48-961a-11ee-a567-ba21c95c07d9\n",
      "Created: 12/08/2023 at 17:36:28\n",
      "Completed in 0.070110 seconds\n",
      "Set Unknown Reaction as Zero. Flux ID: 0\n"
     ]
    }
   ],
   "source": [
    "for flux_id, value in bound_exchange_fluxes_dict.items():\n",
    "    flux_name = name_exchange_fluxes_dict.get(flux_id, \"No Reaction\")\n",
    "    if flux_id == \"None\":\n",
    "        output, processes, topology = main(model_path)\n",
    "    else:\n",
    "        reaction_id = key  # assuming the key itself is the reaction ID you want to set bounds for\n",
    "        bounds = [0, 0]  # Set bounds as zero\n",
    "        output, processes, topology = main(model_path, reaction_id, bounds)\n",
    "        print(f\"Set {flux_name} as zero. Flux ID: {flux_id}\")\n"
   ]
  },
  {
   "cell_type": "code",
   "execution_count": 5,
   "id": "d9e22fec",
   "metadata": {},
   "outputs": [],
   "source": [
    "# # Import the FBA class and the main function from the Fba_process.py file\n",
    "# import sys\n",
    "# sys.path.append('../vivarium_microbiome/processes/Ecoli/')\n",
    "# from Fba import FBA, main\n",
    "# # Set the desired model_path\n",
    "# model_path = \"../vivarium_microbiome/data/e_coli_core.xml\"\n",
    "\n"
   ]
  },
  {
   "cell_type": "markdown",
   "id": "75c25412",
   "metadata": {
    "tags": []
   },
   "source": [
    "## Model Topology. \n",
    "#### The model compute the FBA and provide the optimized Fluxes, the Objective flux and the reactions. "
   ]
  },
  {
   "cell_type": "code",
   "execution_count": 29,
   "id": "559243d3",
   "metadata": {
    "tags": []
   },
   "outputs": [
    {
     "data": {
      "image/png": "[encoded data removed]",
      "text/plain": [
       "<Figure size 700x700 with 1 Axes>"
      ]
     },
     "metadata": {},
     "output_type": "display_data"
    }
   ],
   "source": [
    "composite = {'processes' : processes , 'topology' : topology , 'steps' : {}, 'flow' : {}}\n",
    "config ={'font_size' : 10}\n",
    "fig_topology = plot_topology(composite, config)\n"
   ]
  },
  {
   "cell_type": "code",
   "execution_count": 30,
   "id": "d160b4b1",
   "metadata": {
    "tags": []
   },
   "outputs": [],
   "source": [
    "# extract the fluxes data\n",
    "if isinstance(output, str):\n",
    "    # convert the string to a dictionary\n",
    "    output = ast.literal_eval(output)\n",
    "flux_data = output[1]['fluxes_values']\n",
    "reactions_data = output[1]['reactions_list']\n",
    "objective_flux_data = output[1]['objective_flux_value']"
   ]
  },
  {
   "cell_type": "code",
   "execution_count": 43,
   "id": "38388eb8",
   "metadata": {},
   "outputs": [],
   "source": [
    "# Extract exchange fluxes\n",
    "exchange_fluxes = {key: value for key, value in flux_data.items() if key.startswith('EX_')}\n",
    "# Sort the exchange fluxes based on their values\n",
    "sorted_exchange_fluxes = sorted(exchange_fluxes.items(), key=lambda item: item[1])\n",
    "\n",
    "# Print the sorted exchange fluxes\n",
    "# for EX_flux_id, EX_flux_value in sorted_exchange_fluxes:\n",
    "#     print(f'{EX_flux_id}: {EX_flux_value}')"
   ]
  },
  {
   "cell_type": "code",
   "execution_count": 44,
   "id": "dc6d12e2",
   "metadata": {},
   "outputs": [
    {
     "ename": "NameError",
     "evalue": "name 'uptake_fluxes' is not defined",
     "output_type": "error",
     "traceback": [
      "\u001b[0;31m--------------------------------------------------------------\u001b[0m",
      "\u001b[0;31mNameError\u001b[0m                    Traceback (most recent call last)",
      "Cell \u001b[0;32mIn[44], line 2\u001b[0m\n\u001b[1;32m      1\u001b[0m \u001b[38;5;66;03m# Extract and sort uptake fluxes\u001b[39;00m\n\u001b[0;32m----> 2\u001b[0m sorted_uptake_fluxes \u001b[38;5;241m=\u001b[39m \u001b[38;5;28msorted\u001b[39m(\u001b[43muptake_fluxes\u001b[49m\u001b[38;5;241m.\u001b[39mitems(), key\u001b[38;5;241m=\u001b[39m\u001b[38;5;28;01mlambda\u001b[39;00m item: item[\u001b[38;5;241m1\u001b[39m])\n\u001b[1;32m      4\u001b[0m \u001b[38;5;66;03m# Extract and sort secretion fluxes\u001b[39;00m\n\u001b[1;32m      5\u001b[0m sorted_secretion_fluxes \u001b[38;5;241m=\u001b[39m \u001b[38;5;28msorted\u001b[39m(secretion_fluxes\u001b[38;5;241m.\u001b[39mitems(), key\u001b[38;5;241m=\u001b[39m\u001b[38;5;28;01mlambda\u001b[39;00m item: item[\u001b[38;5;241m1\u001b[39m])\n",
      "\u001b[0;31mNameError\u001b[0m: name 'uptake_fluxes' is not defined"
     ]
    }
   ],
   "source": [
    "# Extract and sort uptake fluxes\n",
    "sorted_uptake_fluxes = sorted(uptake_fluxes.items(), key=lambda item: item[1])\n",
    "\n",
    "# Extract and sort secretion fluxes\n",
    "sorted_secretion_fluxes = sorted(secretion_fluxes.items(), key=lambda item: item[1])\n",
    "\n",
    "# Count and print the number of uptake fluxes\n",
    "num_uptake_fluxes = len(uptake_fluxes)\n",
    "print(f\"Number of Uptake Fluxes: {num_uptake_fluxes}\")\n",
    "\n",
    "# Print sorted uptake fluxes\n",
    "print(\"Uptake Fluxes:\")\n",
    "for key, value in sorted_uptake_fluxes:\n",
    "    print(f'{key}: {value}')\n",
    "    \n",
    "# Count and print the number of secretion fluxes\n",
    "num_secretion_fluxes = len(secretion_fluxes)\n",
    "print(f\"Number of Secretion Fluxes: {num_secretion_fluxes}\")\n",
    "\n",
    "# Print sorted secretion fluxes\n",
    "print(\"\\nSecretion Fluxes:\")\n",
    "for key, value in sorted_secretion_fluxes:\n",
    "    print(f'{key}: {value}')"
   ]
  },
  {
   "cell_type": "code",
   "execution_count": 45,
   "id": "feef541b",
   "metadata": {},
   "outputs": [
    {
     "name": "stdout",
     "output_type": "stream",
     "text": [
      "Number of Uptake Fluxes: 38\n",
      "Uptake Fluxes:\n",
      "EX_cpd00132_e0: -994.3359202312508\n",
      "EX_cpd00023_e0: -741.4452099989957\n",
      "EX_cpd00027_e0: -563.3787374541532\n",
      "EX_cpd00033_e0: -306.0576644873757\n",
      "EX_cpd00007_e0: -209.58796023653295\n",
      "EX_cpd00009_e0: -63.79387854164548\n",
      "EX_cpd00107_e0: -29.47145284046462\n",
      "EX_cpd00156_e0: -28.09414042249195\n",
      "EX_cpd00142_e0: -26.886582599893945\n",
      "EX_cpd00039_e0: -22.409491424362727\n",
      "EX_cpd00051_e0: -19.36795358673476\n",
      "EX_cpd00322_e0: -18.983391331402487\n",
      "EX_cpd00054_e0: -16.534156645867643\n",
      "EX_cpd00129_e0: -14.473524882504917\n",
      "EX_cpd00066_e0: -12.131191145481854\n",
      "EX_cpd00060_e0: -10.033578843669458\n",
      "EX_cpd03847_e0: -9.817801671234578\n",
      "EX_cpd01080_e0: -9.780776074776718\n",
      "EX_cpd00069_e0: -9.694524684985163\n",
      "EX_cpd00084_e0: -6.859431547361726\n",
      "EX_cpd00119_e0: -6.22291649537686\n",
      "EX_cpd00065_e0: -3.7057817332019485\n",
      "EX_cpd00220_e0: -0.660927365397237\n",
      "EX_cpd10516_e0: -0.660927365397232\n",
      "EX_cpd00017_e0: -0.2203091217990774\n",
      "EX_cpd00104_e0: -0.22030912179907736\n",
      "EX_cpd00028_e0: -0.22030912179907733\n",
      "EX_cpd00030_e0: -0.22030912179907733\n",
      "EX_cpd00034_e0: -0.22030912179907733\n",
      "EX_cpd00058_e0: -0.22030912179907733\n",
      "EX_cpd00063_e0: -0.22030912179907733\n",
      "EX_cpd00118_e0: -0.22030912179907733\n",
      "EX_cpd00149_e0: -0.22030912179907733\n",
      "EX_cpd00205_e0: -0.22030912179907733\n",
      "EX_cpd00254_e0: -0.22030912179907733\n",
      "EX_cpd00264_e0: -0.22030912179907733\n",
      "EX_cpd00048_e0: -0.2203091217990773\n",
      "EX_cpd00099_e0: -0.2203091217990773\n",
      "Number of Secretion Fluxes: 12\n",
      "\n",
      "Secretion Fluxes:\n",
      "EX_cpd00218_e0: 0.22030912179907733\n",
      "EX_cpd00100_e0: 2.44519401869418\n",
      "EX_cpd00393_e0: 5.229753637343518\n",
      "EX_cpd00067_e0: 27.62233411618028\n",
      "EX_cpd00075_e0: 50.05555671276299\n",
      "EX_cpd00161_e0: 223.42489700001255\n",
      "EX_cpd00047_e0: 402.8887375833364\n",
      "EX_cpd00053_e0: 696.7667265724946\n",
      "EX_cpd00029_e0: 705.0261209137038\n",
      "EX_cpd00035_e0: 960.7328710850294\n",
      "EX_cpd00001_e0: 1000.0\n",
      "EX_cpd00011_e0: 1000.0\n"
     ]
    }
   ],
   "source": [
    "\n",
    "# Define and sort uptake fluxes\n",
    "uptake_fluxes = {key: value for key, value in exchange_fluxes.items() if value < 0}\n",
    "sorted_uptake_fluxes = sorted(uptake_fluxes.items(), key=lambda item: item[1])\n",
    "\n",
    "# Define and sort secretion fluxes\n",
    "secretion_fluxes = {key: value for key, value in exchange_fluxes.items() if value > 0}\n",
    "sorted_secretion_fluxes = sorted(secretion_fluxes.items(), key=lambda item: item[1])\n",
    "\n",
    "# Count and print the number of uptake fluxes\n",
    "num_uptake_fluxes = len(uptake_fluxes)\n",
    "#print(f\"Number of Uptake Fluxes: {num_uptake_fluxes}\")\n",
    "\n",
    "# Print sorted uptake fluxes\n",
    "# print(\"Uptake Fluxes:\")\n",
    "# for key, value in sorted_uptake_fluxes:\n",
    "#     print(f'{key}: {value}')\n",
    "    \n",
    "# # Count and print the number of secretion fluxes\n",
    "# num_secretion_fluxes = len(secretion_fluxes)\n",
    "# print(f\"Number of Secretion Fluxes: {num_secretion_fluxes}\")\n",
    "\n",
    "# # Print sorted secretion fluxes\n",
    "# print(\"\\nSecretion Fluxes:\")\n",
    "# for key, value in sorted_secretion_fluxes:\n",
    "#     print(f'{key}: {value}')\n"
   ]
  },
  {
   "cell_type": "code",
   "execution_count": 46,
   "id": "0577b8a4",
   "metadata": {},
   "outputs": [
    {
     "data": {
      "image/png": "[encoded data removed]",
      "text/plain": [
       "<Figure size 1000x600 with 1 Axes>"
      ]
     },
     "metadata": {},
     "output_type": "display_data"
    }
   ],
   "source": [
    "# Separating keys and values for plotting\n",
    "fluxes_keys = [key for key, _ in sorted_exchange_fluxes]\n",
    "fluxes_values = [value for _, value in sorted_exchange_fluxes]\n",
    "\n",
    "# Creating the bar chart\n",
    "plt.figure(figsize=(10, 6))\n",
    "plt.bar(fluxes_keys, fluxes_values, color='blue')\n",
    "\n",
    "plt.xlabel('Exchange Fluxes')\n",
    "plt.ylabel('Flux Value')\n",
    "plt.title('Exchange Fluxes Visualization')\n",
    "plt.xticks(rotation=90)  # Rotate labels to avoid overlap\n",
    "plt.tight_layout()  # Adjusts the plot to ensure everything fits without overlapping\n",
    "\n",
    "plt.show()\n"
   ]
  },
  {
   "cell_type": "code",
   "execution_count": null,
   "id": "f4be1f1a",
   "metadata": {},
   "outputs": [],
   "source": []
  }
 ],
 "metadata": {
  "kernelspec": {
   "display_name": "Python 3",
   "language": "python",
   "name": "python3"
  },
  "language_info": {
   "codemirror_mode": {
    "name": "ipython",
    "version": 3
   },
   "file_extension": ".py",
   "mimetype": "text/x-python",
   "name": "python",
   "nbconvert_exporter": "python",
   "pygments_lexer": "ipython3",
   "version": "3.8.5"
  }
 },
 "nbformat": 4,
 "nbformat_minor": 5
}
