{
 "cells": [
  {
   "cell_type": "code",
   "execution_count": 344,
   "id": "6e299e5f",
   "metadata": {
    "tags": []
   },
   "outputs": [],
   "source": [
    "# required imports\n",
    "from vivarium.plots.simulation_output import _save_fig_to_dir as save_fig_to_dir\n",
    "import ast\n",
    "import cobra\n",
    "from cobra import io\n",
    "import os\n",
    "import sys\n",
    "%matplotlib inline\n",
    "import matplotlib.pyplot as plt\n",
    "from vivarium.plots.topology import plot_topology"
   ]
  },
  {
   "cell_type": "code",
   "execution_count": 345,
   "id": "80718ce5",
   "metadata": {},
   "outputs": [],
   "source": [
    "# Define the path to the SBML model file\n",
    "model_path = \"../vivarium_microbiome/data/Alteromonas_Model.xml\""
   ]
  },
  {
   "cell_type": "code",
   "execution_count": 346,
   "id": "0724c737",
   "metadata": {},
   "outputs": [
    {
     "name": "stderr",
     "output_type": "stream",
     "text": [
      "ERROR:cobra.io.sbml:'' is not a valid SBML 'SId'.\n"
     ]
    }
   ],
   "source": [
    "# Load the model\n",
    "model = io.read_sbml_model(model_path)"
   ]
  },
  {
   "cell_type": "code",
   "execution_count": 347,
   "id": "4043e820",
   "metadata": {},
   "outputs": [
    {
     "name": "stdout",
     "output_type": "stream",
     "text": [
      "Total number of reactions: 881\n"
     ]
    }
   ],
   "source": [
    "# 1. Number of all reactions\n",
    "total_reactions = len(model.reactions)\n",
    "print(f\"Total number of reactions: {total_reactions}\")"
   ]
  },
  {
   "cell_type": "code",
   "execution_count": 348,
   "id": "81847ef8",
   "metadata": {},
   "outputs": [
    {
     "name": "stdout",
     "output_type": "stream",
     "text": [
      "Number of exchange fluxes: 62\n"
     ]
    }
   ],
   "source": [
    "# 2. Number of exchange fluxes\n",
    "exchange_reactions = [reaction for reaction in model.reactions if reaction.id.startswith('EX_')]\n",
    "num_exchange_fluxes = len(exchange_reactions)\n",
    "print(f\"Number of exchange fluxes: {num_exchange_fluxes}\")"
   ]
  },
  {
   "cell_type": "code",
   "execution_count": 349,
   "id": "b2850780",
   "metadata": {},
   "outputs": [
    {
     "name": "stdout",
     "output_type": "stream",
     "text": [
      "Human-friendly exchange reactions information:\n"
     ]
    }
   ],
   "source": [
    "# Extract and print human-friendly information for exchange reactions\n",
    "exchange_reactions = [reaction for reaction in model.reactions if reaction.id.startswith('EX_')]\n",
    "print(\"Human-friendly exchange reactions information:\")\n",
    "for reaction in exchange_reactions:\n",
    "    # Format the bounds in a readable way\n",
    "    bounds = f\"[{reaction.lower_bound}, {reaction.upper_bound}]\"\n",
    "    \n",
    "    # Print the details\n",
    "    #print(f\"ID: {reaction.id}, Name: {reaction.name}, Bounds: {bounds}\")"
   ]
  },
  {
   "cell_type": "code",
   "execution_count": 350,
   "id": "7befd362",
   "metadata": {},
   "outputs": [
    {
     "name": "stdout",
     "output_type": "stream",
     "text": [
      "The name of the reaction with ID 'EX_cpd00033_e0' is: 'Exchange for Glycine_e0'\n"
     ]
    }
   ],
   "source": [
    "# Optional: Specify the reaction ID for which you want to find the name\n",
    "reaction_id_to_find = \"EX_cpd00033_e0\"\n",
    "\n",
    "# Find the reaction by its ID and print its name\n",
    "for reaction in model.reactions:\n",
    "    if reaction.id == reaction_id_to_find:\n",
    "        print(f\"The name of the reaction with ID '{reaction_id_to_find}' is: '{reaction.name}'\")\n",
    "        break\n",
    "else:\n",
    "    print(f\"No reaction found with the ID '{reaction_id_to_find}'\")"
   ]
  },
  {
   "cell_type": "code",
   "execution_count": 351,
   "id": "3d181262",
   "metadata": {},
   "outputs": [],
   "source": [
    "# Optional: Dictionary for exchange fluxes: ID as key, Name as value\n",
    "name_exchange_fluxes_dict = {reaction.id: reaction.name for reaction in model.reactions if reaction.id.startswith('EX_')}\n",
    "\n",
    "#print(name_exchange_fluxes_dict)"
   ]
  },
  {
   "cell_type": "code",
   "execution_count": 352,
   "id": "514777bc",
   "metadata": {},
   "outputs": [],
   "source": [
    "# Dictionary for exchange fluxes: ID as key, Bounds as value\n",
    "bound_exchange_fluxes_dict = {reaction.id: f\"[{reaction.lower_bound}, {reaction.upper_bound}]\" \n",
    "                        for reaction in model.reactions if reaction.id.startswith('EX_')}\n",
    "\n",
    "# Adding an empty key and value\n",
    "new_key = \"None\"  # This is an example key. \n",
    "bound_exchange_fluxes_dict[new_key] = \"None\"\n",
    "\n",
    "# Print the dictionary\n",
    "#print(bound_exchange_fluxes_dict)"
   ]
  },
  {
   "cell_type": "code",
   "execution_count": 353,
   "id": "48658c92",
   "metadata": {},
   "outputs": [],
   "source": [
    "# Import the FBA class and the main function from the Fba_process.py file\n",
    "sys.path.append('../vivarium_microbiome/processes/Altrmns/')\n",
    "from Fba import FBA, main"
   ]
  },
  {
   "cell_type": "code",
   "execution_count": 354,
   "id": "77e31408",
   "metadata": {},
   "outputs": [],
   "source": [
    "# Function to process model with setting the bound to a given flux_id as zero\n",
    "def process_model(model_path, flux_id, flux_name):\n",
    "    if flux_id == \"None\":\n",
    "        output, processes, topology = main(model_path)\n",
    "    else:\n",
    "        reaction_id = flux_id  # Assuming the key itself is the reaction ID\n",
    "        bounds = [0, 0]  # Set bounds to zero\n",
    "        output, processes, topology = main(model_path, reaction_id, bounds)\n",
    "        print(f\"Set {flux_name} as zero. Flux ID: {flux_id}\")\n",
    "\n",
    "    return output"
   ]
  },
  {
   "cell_type": "code",
   "execution_count": 355,
   "id": "fd718887",
   "metadata": {},
   "outputs": [],
   "source": [
    "# Function to extract flux data from output\n",
    "def extract_flux_data(output):\n",
    "    if isinstance(output, str):\n",
    "        output = ast.literal_eval(output)\n",
    "    flux_data = output[1]['fluxes_values']\n",
    "    return flux_data"
   ]
  },
  {
   "cell_type": "code",
   "execution_count": 356,
   "id": "92557cbe",
   "metadata": {},
   "outputs": [],
   "source": [
    "# Function to sort and print flux details\n",
    "def sort_and_print_fluxes(flux_data, flux_type):\n",
    "    sorted_fluxes = sorted(flux_data.items(), key=lambda item: item[1])\n",
    "    num_fluxes = len(sorted_fluxes)\n",
    "    print(f\"Number of {flux_type} Fluxes: {num_fluxes}\")\n",
    "\n",
    "    print(f\"\\n{flux_type} Fluxes:\")\n",
    "    for key, value in sorted_fluxes:\n",
    "        print(f'{key}: {value}')"
   ]
  },
  {
   "cell_type": "code",
   "execution_count": 357,
   "id": "30628240",
   "metadata": {},
   "outputs": [],
   "source": [
    "def ex_bar_chart(flux_data, flux_name, ex_output_folder, \n",
    "                 bar_colors, objective_flux, objective_flux_label, is_in_original_uptake_list):\n",
    "\n",
    "    sorted_fluxes = sorted(flux_data.items(), key=lambda item: item[0])\n",
    "    keys, values = zip(*sorted_fluxes)\n",
    "\n",
    "    plt.figure(figsize=(12, 6))\n",
    "\n",
    "    # Plot the regular flux bars\n",
    "    plt.bar(keys, values, color=bar_colors)\n",
    "\n",
    "    # Add a white (or transparent) bar for spacing\n",
    "    plt.bar(len(keys), 0, color='white', width=0.5)\n",
    "\n",
    "    # Add the objective flux bar separately at the end, in red\n",
    "    plt.bar(len(keys) + 1, objective_flux, color='red', width=0.5)\n",
    "\n",
    "    plt.xlabel('Exchange Fluxes')\n",
    "    plt.ylabel('Flux Value')\n",
    "    plt.title(f'Exchange Fluxes when {flux_name} is zero')\n",
    "    plt.xticks(list(range(len(keys) + 2)), list(keys) + ['', objective_flux_label], rotation=90)\n",
    "\n",
    "    plt.tight_layout()\n",
    "    uptake_prefix = \"up_\" if is_in_original_uptake_list else \"\"\n",
    "    file_name = f\"{uptake_prefix}Ex_{flux_name}_zero_with_objective.png\"\n",
    "\n",
    "    file_path = os.path.join(ex_output_folder, file_name)\n",
    "    plt.savefig(file_path)\n",
    "    plt.close()\n"
   ]
  },
  {
   "cell_type": "code",
   "execution_count": 358,
   "id": "1b514044",
   "metadata": {},
   "outputs": [],
   "source": [
    "# def ex_bar_chart(ax, flux_data, flux_name, ex_output_folder, bar_colors, objective_flux, objective_flux_label, is_in_original_uptake_list):\n",
    "#     sorted_fluxes = sorted(flux_data.items(), key=lambda item: item[0])\n",
    "#     keys, values = zip(*sorted_fluxes)\n",
    "\n",
    "#     # Plot the regular flux bars on the provided axes\n",
    "#     ax.bar(keys, values, color=bar_colors)\n",
    "\n",
    "#     # Add a white (or transparent) bar for spacing\n",
    "#     ax.bar(len(keys), 0, color='white', width=0.5)\n",
    "\n",
    "#     # Add the objective flux bar separately at the end, in red\n",
    "#     ax.bar(len(keys) + 1, objective_flux, color='red', width=0.5)\n",
    "\n",
    "#     ax.set_xlabel('Exchange Fluxes')\n",
    "#     ax.set_ylabel('Flux Value')\n",
    "#     ax.set_title(f'Exchange Fluxes when {flux_name} is zero')\n",
    "#     ax.set_xticks(list(range(len(keys) + 2)))\n",
    "#     ax.set_xticklabels(list(keys) + ['', objective_flux_label], rotation=90)\n"
   ]
  },
  {
   "cell_type": "code",
   "execution_count": 359,
   "id": "4b7d0bd4",
   "metadata": {},
   "outputs": [],
   "source": [
    "def calculate_flux_changes(current_flux_dict, original_flux_dict):\n",
    "    difer_flux_dict = {}\n",
    "    for flux_id, current_flux in current_flux_dict.items():\n",
    "        original_flux = original_flux_dict.get(flux_id, 0)\n",
    "        if original_flux != 0:\n",
    "            change = abs(current_flux - original_flux) / abs(original_flux)\n",
    "            difer_flux_dict[flux_id] = change\n",
    "    return difer_flux_dict"
   ]
  },
  {
   "cell_type": "code",
   "execution_count": 360,
   "id": "a2f67995",
   "metadata": {},
   "outputs": [],
   "source": [
    "def plot_top_flux_changes(difer_flux_dict, top_n=20):\n",
    "    # Sort and get the top N changes\n",
    "    sorted_changes = sorted(difer_flux_dict.items(), key=lambda x: x[1], reverse=True)[:top_n]\n",
    "    \n",
    "    # Extract IDs and values for plotting\n",
    "    flux_ids, changes = zip(*sorted_changes)\n",
    "\n",
    "    plt.figure(figsize=(10, 6))\n",
    "    plt.bar(flux_ids, changes, color='brown')\n",
    "    plt.xlabel('Flux ID')\n",
    "    plt.ylabel('Normalized Flux Change')\n",
    "    plt.title(f'Top {top_n} Flux Changes')\n",
    "    plt.xticks(rotation=45)\n",
    "    plt.tight_layout()\n",
    "    plt.show()"
   ]
  },
  {
   "cell_type": "code",
   "execution_count": 361,
   "id": "5ebba93e",
   "metadata": {},
   "outputs": [],
   "source": [
    "# def plot_top_flux_changes(ax, difer_flux_dict, top_n=20):\n",
    "#     # Sort and get the top N changes\n",
    "#     sorted_changes = sorted(difer_flux_dict.items(), key=lambda x: x[1], reverse=True)[:top_n]\n",
    "    \n",
    "#     # Extract IDs and values for plotting\n",
    "#     flux_ids, changes = zip(*sorted_changes)\n",
    "\n",
    "#     # Plot the bar chart on the provided axes\n",
    "#     ax.bar(flux_ids, changes, color='brown')\n",
    "#     ax.set_xlabel('Flux ID')\n",
    "#     ax.set_ylabel('Normalized Flux Change')\n",
    "#     ax.set_title(f'Top {top_n} Flux Changes')\n",
    "#     ax.set_xticks(range(len(flux_ids)))\n",
    "#     ax.set_xticklabels(flux_ids, rotation=45)\n"
   ]
  },
  {
   "cell_type": "code",
   "execution_count": 362,
   "id": "c0569bdd",
   "metadata": {},
   "outputs": [],
   "source": [
    "def main_loop(model_path, bound_exchange_fluxes_dict, name_exchange_fluxes_dict, ex_output_folder):\n",
    "    # Initialize the dictionary and list to store the original flux data\n",
    "    original_flux_dict = {}\n",
    "    all_flux_changes = {}\n",
    "    original_uptake_list = []\n",
    "\n",
    "    # First run with flux_id == \"None\" to populate original_uptake_list\n",
    "    output = process_model(model_path, \"None\", \"No Reaction\")\n",
    "    flux_data = extract_flux_data(output)\n",
    "    original_flux_dict = flux_data\n",
    "    uptake_fluxes = {key: value for key, value in flux_data.items() if key.startswith('EX_') and value < 0}\n",
    "    original_uptake_list = list(uptake_fluxes.keys())\n",
    "    \n",
    "    # Create a subplot with 1 row and 2 columns for each iteration\n",
    "    fig, (ax1, ax2) = plt.subplots(1, 2, figsize=(24, 6))\n",
    "\n",
    "    # Now iterate over the other flux IDs\n",
    "    for flux_id, _ in bound_exchange_fluxes_dict.items():\n",
    "        if flux_id == \"None\":\n",
    "            continue  # Skip the None case as it's already handled\n",
    "\n",
    "        flux_name = name_exchange_fluxes_dict.get(flux_id, \"No Reaction\")\n",
    "        output = process_model(model_path, flux_id, flux_name)\n",
    "        flux_data = extract_flux_data(output)\n",
    "        \n",
    "        \n",
    "        # Calculate and store the flux changes\n",
    "        difer_flux_dict = calculate_flux_changes(flux_data, original_flux_dict)\n",
    "        for key, value in difer_flux_dict.items():\n",
    "            if key in all_flux_changes:\n",
    "                all_flux_changes[key] = max(all_flux_changes[key], value)\n",
    "            else:\n",
    "                all_flux_changes[key] = value\n",
    "\n",
    "        # Check if the current flux_id is in original_uptake_list\n",
    "        is_in_original_uptake_list = flux_id in original_uptake_list\n",
    "\n",
    "        # Extract exchange, uptake, and secretion fluxes\n",
    "        exchange_fluxes = {key: value for key, value in flux_data.items() if key.startswith('EX_')}\n",
    "        uptake_fluxes = {key: value for key, value in exchange_fluxes.items() if value < 0}\n",
    "        secretion_fluxes = {key: value for key, value in exchange_fluxes.items() if value > 0}\n",
    "        \n",
    "        \n",
    "        # Sort and print fluxes\n",
    "        sort_and_print_fluxes(uptake_fluxes, \"Uptake\")\n",
    "        sort_and_print_fluxes(secretion_fluxes, \"Secretion\")\n",
    "\n",
    "        # If output is a string, convert it to a dictionary\n",
    "        if isinstance(output, str):\n",
    "            output = ast.literal_eval(output)\n",
    "        objective_flux = output[1]['objective_flux_value']\n",
    "        print(f\"Objective flux for when eliminate '{flux_id}' ({flux_name}): {objective_flux}\")\n",
    "\n",
    "        bar_colors = ['orange' if objective_flux <= 0 else 'blue' for _ in flux_data]\n",
    "        \n",
    "        # Call the bar chart function with the necessary parameters\n",
    "        ex_bar_chart(ax1, exchange_fluxes, flux_name, ex_output_folder, bar_colors, objective_flux, \"Objective Flux\", is_in_original_uptake_list)\n",
    "\n",
    "        # Plot the top 20 flux changes\n",
    "        plot_top_flux_changes(ax2, all_flux_changes)\n",
    "        \n",
    "        # Call the bar chart function with the necessary parameters\n",
    "        ex_bar_chart(ax1, exchange_fluxes, flux_name, ex_output_folder, bar_colors, objective_flux, \"Objective Flux\", is_in_original_uptake_list)\n",
    "\n",
    "        \n",
    "        # After completing the loop, plot the top 20 flux changes\n",
    "        fig, ax = plt.subplots()\n",
    "        plot_top_flux_changes(ax, all_flux_changes)\n",
    "        \n",
    "            # Save the entire figure after completing the loop\n",
    "        plt.tight_layout()\n",
    "        plt.savefig(os.path.join(ex_output_folder, file_name))\n",
    "        plt.close()\n",
    "        \n",
    "#         # After plotting the exchange fluxes and top flux changes for the current flux_id\n",
    "#         plt.tight_layout()\n",
    "\n",
    "#         # Determine the file name based on whether the current flux_id is in the original uptake list\n",
    "#         uptake_prefix = \"up_\" if is_in_original_uptake_list else \"\"\n",
    "#         file_name = f\"{uptake_prefix}Ex_{flux_name}_zero_with_objective.png\"\n",
    "\n",
    "#         # Save the figure\n",
    "#         file_path = os.path.join(ex_output_folder, file_name)\n",
    "#         plt.savefig(file_path)\n",
    "#         plt.close()\n",
    "\n",
    "\n",
    "        \n",
    "        \n",
    "        \n",
    "\n",
    "\n",
    "\n",
    "\n",
    "# Specify the ex_output folder\n",
    "ex_output_folder = \"/Users/amin/Desktop/Microbiome/vivarium_microbiome/output/ex\"\n",
    "\n",
    "# Ensure the ex_output folder exists\n",
    "os.makedirs(ex_output_folder, exist_ok=True)\n"
   ]
  },
  {
   "cell_type": "code",
   "execution_count": 363,
   "id": "f6ce2ab5",
   "metadata": {},
   "outputs": [
    {
     "name": "stderr",
     "output_type": "stream",
     "text": [
      "ERROR:cobra.io.sbml:'' is not a valid SBML 'SId'.\n"
     ]
    },
    {
     "name": "stdout",
     "output_type": "stream",
     "text": [
      "\n",
      "Simulation ID: 6f7f1736-9af2-11ee-a531-ba21c95c07d9\n",
      "Created: 12/14/2023 at 21:34:13\n",
      "Completed in 0.067320 seconds\n"
     ]
    },
    {
     "name": "stderr",
     "output_type": "stream",
     "text": [
      "ERROR:cobra.io.sbml:'' is not a valid SBML 'SId'.\n"
     ]
    },
    {
     "name": "stdout",
     "output_type": "stream",
     "text": [
      "\n",
      "Simulation ID: 7014c83a-9af2-11ee-a531-ba21c95c07d9\n",
      "Created: 12/14/2023 at 21:34:14\n",
      "Completed in 0.042034 seconds\n",
      "Set Exchange for Cu2+_e0 as zero. Flux ID: EX_cpd00058_e0\n",
      "Number of Uptake Fluxes: 4\n",
      "\n",
      "Uptake Fluxes:\n",
      "EX_cpd00033_e0: -1.4761506276150624\n",
      "EX_cpd00027_e0: -0.527196652719665\n",
      "EX_cpd00054_e0: -0.15815899581589965\n",
      "EX_cpd00067_e0: -0.10543933054393466\n",
      "Number of Secretion Fluxes: 4\n",
      "\n",
      "Secretion Fluxes:\n",
      "EX_cpd00075_e0: 0.15815899581589962\n",
      "EX_cpd00001_e0: 0.4744769874476987\n",
      "EX_cpd00047_e0: 0.6853556485355647\n",
      "EX_cpd00161_e0: 1.4761506276150627\n",
      "Objective flux for when eliminate 'EX_cpd00058_e0' (Exchange for Cu2+_e0): 0.0\n"
     ]
    },
    {
     "ename": "TypeError",
     "evalue": "ex_bar_chart() takes 7 positional arguments but 8 were given",
     "output_type": "error",
     "traceback": [
      "\u001b[0;31m--------------------------------------------------------------\u001b[0m",
      "\u001b[0;31mTypeError\u001b[0m                    Traceback (most recent call last)",
      "Cell \u001b[0;32mIn[363], line 2\u001b[0m\n\u001b[1;32m      1\u001b[0m \u001b[38;5;66;03m# Call the main loop\u001b[39;00m\n\u001b[0;32m----> 2\u001b[0m \u001b[43mmain_loop\u001b[49m\u001b[43m(\u001b[49m\u001b[43mmodel_path\u001b[49m\u001b[43m,\u001b[49m\u001b[43m \u001b[49m\u001b[43mbound_exchange_fluxes_dict\u001b[49m\u001b[43m,\u001b[49m\u001b[43m \u001b[49m\u001b[43mname_exchange_fluxes_dict\u001b[49m\u001b[43m,\u001b[49m\u001b[43m \u001b[49m\u001b[43mex_output_folder\u001b[49m\u001b[43m)\u001b[49m\n",
      "Cell \u001b[0;32mIn[362], line 57\u001b[0m, in \u001b[0;36mmain_loop\u001b[0;34m(model_path, bound_exchange_fluxes_dict, name_exchange_fluxes_dict, ex_output_folder)\u001b[0m\n\u001b[1;32m     54\u001b[0m bar_colors \u001b[38;5;241m=\u001b[39m [\u001b[38;5;124m'\u001b[39m\u001b[38;5;124morange\u001b[39m\u001b[38;5;124m'\u001b[39m \u001b[38;5;28;01mif\u001b[39;00m objective_flux \u001b[38;5;241m<\u001b[39m\u001b[38;5;241m=\u001b[39m \u001b[38;5;241m0\u001b[39m \u001b[38;5;28;01melse\u001b[39;00m \u001b[38;5;124m'\u001b[39m\u001b[38;5;124mblue\u001b[39m\u001b[38;5;124m'\u001b[39m \u001b[38;5;28;01mfor\u001b[39;00m _ \u001b[38;5;129;01min\u001b[39;00m flux_data]\n\u001b[1;32m     56\u001b[0m \u001b[38;5;66;03m# Call the bar chart function with the necessary parameters\u001b[39;00m\n\u001b[0;32m---> 57\u001b[0m \u001b[43mex_bar_chart\u001b[49m\u001b[43m(\u001b[49m\u001b[43max1\u001b[49m\u001b[43m,\u001b[49m\u001b[43m \u001b[49m\u001b[43mexchange_fluxes\u001b[49m\u001b[43m,\u001b[49m\u001b[43m \u001b[49m\u001b[43mflux_name\u001b[49m\u001b[43m,\u001b[49m\u001b[43m \u001b[49m\u001b[43mex_output_folder\u001b[49m\u001b[43m,\u001b[49m\u001b[43m \u001b[49m\u001b[43mbar_colors\u001b[49m\u001b[43m,\u001b[49m\u001b[43m \u001b[49m\u001b[43mobjective_flux\u001b[49m\u001b[43m,\u001b[49m\u001b[43m \u001b[49m\u001b[38;5;124;43m\"\u001b[39;49m\u001b[38;5;124;43mObjective Flux\u001b[39;49m\u001b[38;5;124;43m\"\u001b[39;49m\u001b[43m,\u001b[49m\u001b[43m \u001b[49m\u001b[43mis_in_original_uptake_list\u001b[49m\u001b[43m)\u001b[49m\n\u001b[1;32m     59\u001b[0m \u001b[38;5;66;03m# Plot the top 20 flux changes\u001b[39;00m\n\u001b[1;32m     60\u001b[0m plot_top_flux_changes(ax2, all_flux_changes)\n",
      "\u001b[0;31mTypeError\u001b[0m: ex_bar_chart() takes 7 positional arguments but 8 were given"
     ]
    },
    {
     "data": {
      "image/png": "[encoded data removed]",
      "text/plain": [
       "<Figure size 2400x600 with 2 Axes>"
      ]
     },
     "metadata": {},
     "output_type": "display_data"
    }
   ],
   "source": [
    "# Call the main loop\n",
    "main_loop(model_path, bound_exchange_fluxes_dict, name_exchange_fluxes_dict, ex_output_folder)"
   ]
  },
  {
   "cell_type": "code",
   "execution_count": null,
   "id": "439a5a82",
   "metadata": {},
   "outputs": [],
   "source": []
  },
  {
   "cell_type": "code",
   "execution_count": null,
   "id": "4937fd12",
   "metadata": {},
   "outputs": [],
   "source": []
  },
  {
   "cell_type": "code",
   "execution_count": null,
   "id": "80e0d8c8",
   "metadata": {},
   "outputs": [],
   "source": []
  },
  {
   "cell_type": "code",
   "execution_count": null,
   "id": "33fd2a8d",
   "metadata": {},
   "outputs": [],
   "source": []
  },
  {
   "cell_type": "markdown",
   "id": "bf3a3210",
   "metadata": {
    "tags": []
   },
   "source": [
    "## Model Topology. \n",
    "#### The model compute the FBA and provide the optimized Fluxes, the Objective flux and the reactions. "
   ]
  },
  {
   "cell_type": "code",
   "execution_count": 29,
   "id": "95675716",
   "metadata": {
    "tags": []
   },
   "outputs": [
    {
     "data": {
      "image/png": "[encoded data removed]",
      "text/plain": [
       "<Figure size 700x700 with 1 Axes>"
      ]
     },
     "metadata": {},
     "output_type": "display_data"
    }
   ],
   "source": [
    "composite = {'processes' : processes , 'topology' : topology , 'steps' : {}, 'flow' : {}}\n",
    "config ={'font_size' : 10}\n",
    "fig_topology = plot_topology(composite, config)\n"
   ]
  }
 ],
 "metadata": {
  "kernelspec": {
   "display_name": "Python 3",
   "language": "python",
   "name": "python3"
  },
  "language_info": {
   "codemirror_mode": {
    "name": "ipython",
    "version": 3
   },
   "file_extension": ".py",
   "mimetype": "text/x-python",
   "name": "python",
   "nbconvert_exporter": "python",
   "pygments_lexer": "ipython3",
   "version": "3.8.5"
  }
 },
 "nbformat": 4,
 "nbformat_minor": 5
}
