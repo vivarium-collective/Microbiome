{
 "cells": [
  {
   "cell_type": "markdown",
   "id": "d5a1845e",
   "metadata": {},
   "source": [
    "# Review initial information of Alteromonas SBML Model"
   ]
  },
  {
   "cell_type": "code",
   "execution_count": 1,
   "id": "52c8132a",
   "metadata": {},
   "outputs": [],
   "source": [
    "# Import necessary modules\n",
    "import cobra\n",
    "from cobra import io"
   ]
  },
  {
   "cell_type": "code",
   "execution_count": 2,
   "id": "b44083aa",
   "metadata": {},
   "outputs": [],
   "source": [
    "# Define the path to the SBML model file\n",
    "model_path = \"../vivarium_microbiome/data/Alteromonas_Model.xml\"  # Replace with the correct path"
   ]
  },
  {
   "cell_type": "code",
   "execution_count": 3,
   "id": "1cf32b89",
   "metadata": {},
   "outputs": [
    {
     "name": "stderr",
     "output_type": "stream",
     "text": [
      "'' is not a valid SBML 'SId'.\n"
     ]
    }
   ],
   "source": [
    "# Load the model\n",
    "model = io.read_sbml_model(model_path)"
   ]
  },
  {
   "cell_type": "code",
   "execution_count": 4,
   "id": "0bcbe6f5",
   "metadata": {},
   "outputs": [
    {
     "name": "stdout",
     "output_type": "stream",
     "text": [
      "Total number of reactions: 881\n"
     ]
    }
   ],
   "source": [
    "# 1. Number of all reactions\n",
    "total_reactions = len(model.reactions)\n",
    "print(f\"Total number of reactions: {total_reactions}\")"
   ]
  },
  {
   "cell_type": "code",
   "execution_count": 5,
   "id": "4990a519",
   "metadata": {},
   "outputs": [
    {
     "name": "stdout",
     "output_type": "stream",
     "text": [
      "Number of exchange fluxes: 62\n"
     ]
    }
   ],
   "source": [
    "# 2. Number of exchange fluxes\n",
    "exchange_reactions = [reaction for reaction in model.reactions if reaction.id.startswith('EX_')]\n",
    "num_exchange_fluxes = len(exchange_reactions)\n",
    "print(f\"Number of exchange fluxes: {num_exchange_fluxes}\")"
   ]
  },
  {
   "cell_type": "code",
   "execution_count": 6,
   "id": "edaa731c",
   "metadata": {},
   "outputs": [
    {
     "name": "stdout",
     "output_type": "stream",
     "text": [
      "Human-friendly exchange reactions information:\n",
      "ID: EX_cpd00058_e0, Name: Exchange for Cu2+_e0, Bounds: [-1000.0, 1000.0]\n",
      "ID: EX_cpd00065_e0, Name: Exchange for L-Tryptophan_e0, Bounds: [-1000.0, 1000.0]\n",
      "ID: EX_cpd03726_e0, Name: Exchange for Fe-enterochlin_e0, Bounds: [-1000.0, 1000.0]\n",
      "ID: EX_cpd00039_e0, Name: Exchange for L-Lysine_e0, Bounds: [-1000.0, 1000.0]\n",
      "ID: EX_cpd00322_e0, Name: Exchange for L-Isoleucine_e0, Bounds: [-1000.0, 1000.0]\n",
      "ID: EX_cpd03453_e0, Name: Exchange for Enterobactin_e0, Bounds: [-1000.0, 1000.0]\n",
      "ID: EX_cpd00644_e0, Name: Exchange for PAN_e0, Bounds: [-1000.0, 1000.0]\n",
      "ID: EX_cpd00007_e0, Name: Exchange for O2_e0, Bounds: [-1000.0, 1000.0]\n",
      "ID: EX_cpd00971_e0, Name: Exchange for Na+_e0, Bounds: [-1000.0, 1000.0]\n",
      "ID: EX_cpd00132_e0, Name: Exchange for L-Asparagine_e0, Bounds: [-1000.0, 1000.0]\n",
      "ID: EX_cpd00035_e0, Name: Exchange for L-Alanine_e0, Bounds: [-1000.0, 1000.0]\n",
      "ID: EX_cpd00393_e0, Name: Exchange for Folate_e0, Bounds: [-1000.0, 1000.0]\n",
      "ID: EX_cpd00063_e0, Name: Exchange for Ca2+_e0, Bounds: [-1000.0, 1000.0]\n",
      "ID: EX_cpd00028_e0, Name: Exchange for Heme_e0, Bounds: [-1000.0, 1000.0]\n",
      "ID: EX_cpd01080_e0, Name: Exchange for ocdca_e0, Bounds: [-1000.0, 1000.0]\n",
      "ID: EX_cpd00048_e0, Name: Exchange for Sulfate_e0, Bounds: [-1000.0, 1000.0]\n",
      "ID: EX_cpd00218_e0, Name: Exchange for Niacin_e0, Bounds: [-1000.0, 1000.0]\n",
      "ID: EX_cpd00017_e0, Name: Exchange for S-Adenosyl-L-methionine_e0, Bounds: [-1000.0, 1000.0]\n",
      "ID: EX_cpd00107_e0, Name: Exchange for L-Leucine_e0, Bounds: [-1000.0, 1000.0]\n",
      "ID: EX_cpd00067_e0, Name: Exchange for H+_e0, Bounds: [-1000.0, 1000.0]\n",
      "ID: EX_cpd00051_e0, Name: Exchange for L-Arginine_e0, Bounds: [-1000.0, 1000.0]\n",
      "ID: EX_cpd00116_e0, Name: Exchange for Methanol_e0, Bounds: [-1000.0, 1000.0]\n",
      "ID: EX_cpd00100_e0, Name: Exchange for Glycerol_e0, Bounds: [-1000.0, 1000.0]\n",
      "ID: EX_cpd03847_e0, Name: Exchange for Myristic acid_e0, Bounds: [-1000.0, 1000.0]\n",
      "ID: EX_cpd00069_e0, Name: Exchange for L-Tyrosine_e0, Bounds: [-1000.0, 1000.0]\n",
      "ID: EX_cpd10516_e0, Name: Exchange for fe3_e0, Bounds: [-1000.0, 1000.0]\n",
      "ID: EX_cpd00054_e0, Name: Exchange for L-Serine_e0, Bounds: [-1000.0, 1000.0]\n",
      "ID: EX_cpd00119_e0, Name: Exchange for L-Histidine_e0, Bounds: [-1000.0, 1000.0]\n",
      "ID: EX_cpd00142_e0, Name: Exchange for Acetoacetate_e0, Bounds: [-1000.0, 1000.0]\n",
      "ID: EX_cpd00254_e0, Name: Exchange for Mg_e0, Bounds: [-1000.0, 1000.0]\n",
      "ID: EX_cpd00029_e0, Name: Exchange for Acetate_e0, Bounds: [-1000.0, 1000.0]\n",
      "ID: EX_cpd00084_e0, Name: Exchange for L-Cysteine_e0, Bounds: [-1000.0, 1000.0]\n",
      "ID: EX_cpd00053_e0, Name: Exchange for L-Glutamine_e0, Bounds: [-1000.0, 1000.0]\n",
      "ID: EX_cpd00118_e0, Name: Exchange for Putrescine_e0, Bounds: [-1000.0, 1000.0]\n",
      "ID: EX_cpd00027_e0, Name: Exchange for D-Glucose_e0, Bounds: [-1000.0, 1000.0]\n",
      "ID: EX_cpd00156_e0, Name: Exchange for L-Valine_e0, Bounds: [-1000.0, 1000.0]\n",
      "ID: EX_cpd00009_e0, Name: Exchange for Phosphate_e0, Bounds: [-1000.0, 1000.0]\n",
      "ID: EX_cpd00047_e0, Name: Exchange for Formate_e0, Bounds: [-1000.0, 1000.0]\n",
      "ID: EX_cpd00211_e0, Name: Exchange for Butyrate_e0, Bounds: [-1000.0, 1000.0]\n",
      "ID: EX_cpd00305_e0, Name: Exchange for Thiamin_e0, Bounds: [-1000.0, 1000.0]\n",
      "ID: EX_cpd00214_e0, Name: Exchange for Palmitate_e0, Bounds: [-1000.0, 1000.0]\n",
      "ID: EX_cpd00129_e0, Name: Exchange for L-Proline_e0, Bounds: [-1000.0, 1000.0]\n",
      "ID: EX_cpd00220_e0, Name: Exchange for Riboflavin_e0, Bounds: [-1000.0, 1000.0]\n",
      "ID: EX_cpd00264_e0, Name: Exchange for Spermidine_e0, Bounds: [-1000.0, 1000.0]\n",
      "ID: EX_cpd00041_e0, Name: Exchange for L-Aspartate_e0, Bounds: [-1000.0, 1000.0]\n",
      "ID: EX_cpd00205_e0, Name: Exchange for K+_e0, Bounds: [-1000.0, 1000.0]\n",
      "ID: EX_cpd00013_e0, Name: Exchange for NH3_e0, Bounds: [-1000.0, 1000.0]\n",
      "ID: EX_cpd00099_e0, Name: Exchange for Cl-_e0, Bounds: [-1000.0, 1000.0]\n",
      "ID: EX_cpd00104_e0, Name: Exchange for BIOT_e0, Bounds: [-1000.0, 1000.0]\n",
      "ID: EX_cpd00011_e0, Name: Exchange for CO2_e0, Bounds: [-1000.0, 1000.0]\n",
      "ID: EX_cpd00215_e0, Name: Exchange for Pyridoxal_e0, Bounds: [-1000.0, 1000.0]\n",
      "ID: EX_cpd00030_e0, Name: Exchange for Mn2+_e0, Bounds: [-1000.0, 1000.0]\n",
      "ID: EX_cpd00066_e0, Name: Exchange for L-Phenylalanine_e0, Bounds: [-1000.0, 1000.0]\n",
      "ID: EX_cpd00075_e0, Name: Exchange for Nitrite_e0, Bounds: [-1000.0, 1000.0]\n",
      "ID: EX_cpd00001_e0, Name: Exchange for H2O_e0, Bounds: [-1000.0, 1000.0]\n",
      "ID: EX_cpd00635_e0, Name: Exchange for Cbl_e0, Bounds: [-1000.0, 1000.0]\n",
      "ID: EX_cpd00023_e0, Name: Exchange for L-Glutamate_e0, Bounds: [-1000.0, 1000.0]\n",
      "ID: EX_cpd00034_e0, Name: Exchange for Zn2+_e0, Bounds: [-1000.0, 1000.0]\n",
      "ID: EX_cpd00161_e0, Name: Exchange for L-Threonine_e0, Bounds: [-1000.0, 1000.0]\n",
      "ID: EX_cpd00149_e0, Name: Exchange for Co2+_e0, Bounds: [-1000.0, 1000.0]\n",
      "ID: EX_cpd00033_e0, Name: Exchange for Glycine_e0, Bounds: [-1000.0, 1000.0]\n",
      "ID: EX_cpd00060_e0, Name: Exchange for L-Methionine_e0, Bounds: [-1000.0, 1000.0]\n"
     ]
    }
   ],
   "source": [
    "# Extract and print human-friendly information for exchange reactions\n",
    "exchange_reactions = [reaction for reaction in model.reactions if reaction.id.startswith('EX_')]\n",
    "print(\"Human-friendly exchange reactions information:\")\n",
    "for reaction in exchange_reactions:\n",
    "    # Format the bounds in a readable way\n",
    "    bounds = f\"[{reaction.lower_bound}, {reaction.upper_bound}]\"\n",
    "    \n",
    "    # Print the details\n",
    "    print(f\"ID: {reaction.id}, Name: {reaction.name}, Bounds: {bounds}\")"
   ]
  },
  {
   "cell_type": "code",
   "execution_count": 7,
   "id": "3bb4684d",
   "metadata": {},
   "outputs": [],
   "source": [
    "# 3. Print the name of all reactions\n",
    "# print(\"Names of all reactions:\")\n",
    "# for reaction in model.reactions:\n",
    "#     print(reaction.name)"
   ]
  },
  {
   "cell_type": "code",
   "execution_count": 8,
   "id": "4c660fb4",
   "metadata": {},
   "outputs": [],
   "source": [
    "# Print the names of exchange flux reactions\n",
    "# print(\"Names of Exchange Flux Reactions:\")\n",
    "# for reaction in exchange_reactions:\n",
    "#     print(reaction.name)"
   ]
  },
  {
   "cell_type": "code",
   "execution_count": 9,
   "id": "2f284194",
   "metadata": {},
   "outputs": [
    {
     "name": "stdout",
     "output_type": "stream",
     "text": [
      "The name of the reaction with ID 'EX_cpd00033_e0' is: 'Exchange for Glycine_e0'\n"
     ]
    }
   ],
   "source": [
    "# Specify the reaction ID for which you want to find the name\n",
    "reaction_id_to_find = \"EX_cpd00033_e0\"\n",
    "\n",
    "# Find the reaction by its ID and print its name\n",
    "for reaction in model.reactions:\n",
    "    if reaction.id == reaction_id_to_find:\n",
    "        print(f\"The name of the reaction with ID '{reaction_id_to_find}' is: '{reaction.name}'\")\n",
    "        break\n",
    "else:\n",
    "    print(f\"No reaction found with the ID '{reaction_id_to_find}'\")"
   ]
  },
  {
   "cell_type": "code",
   "execution_count": 11,
   "id": "e740c712",
   "metadata": {},
   "outputs": [],
   "source": [
    "# Dictionary for exchange fluxes: ID as key, Name as value\n",
    "exchange_fluxes_dict = {reaction.id: reaction.name for reaction in model.reactions if reaction.id.startswith('EX_')}\n",
    "\n",
    "#print(exchange_fluxes_dict)"
   ]
  },
  {
   "cell_type": "code",
   "execution_count": 13,
   "id": "ca7b2170",
   "metadata": {},
   "outputs": [
    {
     "name": "stdout",
     "output_type": "stream",
     "text": [
      "{'EX_cpd00058_e0': '[-1000.0, 1000.0]', 'EX_cpd00065_e0': '[-1000.0, 1000.0]', 'EX_cpd03726_e0': '[-1000.0, 1000.0]', 'EX_cpd00039_e0': '[-1000.0, 1000.0]', 'EX_cpd00322_e0': '[-1000.0, 1000.0]', 'EX_cpd03453_e0': '[-1000.0, 1000.0]', 'EX_cpd00644_e0': '[-1000.0, 1000.0]', 'EX_cpd00007_e0': '[-1000.0, 1000.0]', 'EX_cpd00971_e0': '[-1000.0, 1000.0]', 'EX_cpd00132_e0': '[-1000.0, 1000.0]', 'EX_cpd00035_e0': '[-1000.0, 1000.0]', 'EX_cpd00393_e0': '[-1000.0, 1000.0]', 'EX_cpd00063_e0': '[-1000.0, 1000.0]', 'EX_cpd00028_e0': '[-1000.0, 1000.0]', 'EX_cpd01080_e0': '[-1000.0, 1000.0]', 'EX_cpd00048_e0': '[-1000.0, 1000.0]', 'EX_cpd00218_e0': '[-1000.0, 1000.0]', 'EX_cpd00017_e0': '[-1000.0, 1000.0]', 'EX_cpd00107_e0': '[-1000.0, 1000.0]', 'EX_cpd00067_e0': '[-1000.0, 1000.0]', 'EX_cpd00051_e0': '[-1000.0, 1000.0]', 'EX_cpd00116_e0': '[-1000.0, 1000.0]', 'EX_cpd00100_e0': '[-1000.0, 1000.0]', 'EX_cpd03847_e0': '[-1000.0, 1000.0]', 'EX_cpd00069_e0': '[-1000.0, 1000.0]', 'EX_cpd10516_e0': '[-1000.0, 1000.0]', 'EX_cpd00054_e0': '[-1000.0, 1000.0]', 'EX_cpd00119_e0': '[-1000.0, 1000.0]', 'EX_cpd00142_e0': '[-1000.0, 1000.0]', 'EX_cpd00254_e0': '[-1000.0, 1000.0]', 'EX_cpd00029_e0': '[-1000.0, 1000.0]', 'EX_cpd00084_e0': '[-1000.0, 1000.0]', 'EX_cpd00053_e0': '[-1000.0, 1000.0]', 'EX_cpd00118_e0': '[-1000.0, 1000.0]', 'EX_cpd00027_e0': '[-1000.0, 1000.0]', 'EX_cpd00156_e0': '[-1000.0, 1000.0]', 'EX_cpd00009_e0': '[-1000.0, 1000.0]', 'EX_cpd00047_e0': '[-1000.0, 1000.0]', 'EX_cpd00211_e0': '[-1000.0, 1000.0]', 'EX_cpd00305_e0': '[-1000.0, 1000.0]', 'EX_cpd00214_e0': '[-1000.0, 1000.0]', 'EX_cpd00129_e0': '[-1000.0, 1000.0]', 'EX_cpd00220_e0': '[-1000.0, 1000.0]', 'EX_cpd00264_e0': '[-1000.0, 1000.0]', 'EX_cpd00041_e0': '[-1000.0, 1000.0]', 'EX_cpd00205_e0': '[-1000.0, 1000.0]', 'EX_cpd00013_e0': '[-1000.0, 1000.0]', 'EX_cpd00099_e0': '[-1000.0, 1000.0]', 'EX_cpd00104_e0': '[-1000.0, 1000.0]', 'EX_cpd00011_e0': '[-1000.0, 1000.0]', 'EX_cpd00215_e0': '[-1000.0, 1000.0]', 'EX_cpd00030_e0': '[-1000.0, 1000.0]', 'EX_cpd00066_e0': '[-1000.0, 1000.0]', 'EX_cpd00075_e0': '[-1000.0, 1000.0]', 'EX_cpd00001_e0': '[-1000.0, 1000.0]', 'EX_cpd00635_e0': '[-1000.0, 1000.0]', 'EX_cpd00023_e0': '[-1000.0, 1000.0]', 'EX_cpd00034_e0': '[-1000.0, 1000.0]', 'EX_cpd00161_e0': '[-1000.0, 1000.0]', 'EX_cpd00149_e0': '[-1000.0, 1000.0]', 'EX_cpd00033_e0': '[-1000.0, 1000.0]', 'EX_cpd00060_e0': '[-1000.0, 1000.0]'}\n"
     ]
    }
   ],
   "source": [
    "# Dictionary for exchange fluxes: ID as key, Bounds as value\n",
    "exchange_fluxes_dict = {reaction.id: f\"[{reaction.lower_bound}, {reaction.upper_bound}]\" \n",
    "                        for reaction in model.reactions if reaction.id.startswith('EX_')}\n",
    "\n",
    "# Print the dictionary\n",
    "print(exchange_fluxes_dict)\n"
   ]
  },
  {
   "cell_type": "code",
   "execution_count": null,
   "id": "29f9e5bb",
   "metadata": {},
   "outputs": [],
   "source": []
  },
  {
   "cell_type": "code",
   "execution_count": null,
   "id": "58da36cd",
   "metadata": {},
   "outputs": [],
   "source": []
  }
 ],
 "metadata": {
  "kernelspec": {
   "display_name": "Python 3",
   "language": "python",
   "name": "python3"
  },
  "language_info": {
   "codemirror_mode": {
    "name": "ipython",
    "version": 3
   },
   "file_extension": ".py",
   "mimetype": "text/x-python",
   "name": "python",
   "nbconvert_exporter": "python",
   "pygments_lexer": "ipython3",
   "version": "3.8.5"
  }
 },
 "nbformat": 4,
 "nbformat_minor": 5
}
